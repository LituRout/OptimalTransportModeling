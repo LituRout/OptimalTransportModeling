{
 "cells": [
  {
   "cell_type": "code",
   "execution_count": 1,
   "metadata": {},
   "outputs": [],
   "source": [
    "import matplotlib.pyplot as plt\n",
    "import numpy as np\n",
    "import os\n",
    "import sys\n",
    "import random\n",
    "import seaborn as sns\n",
    "from sklearn import datasets\n",
    "from tqdm import tqdm\n",
    "\n",
    "%matplotlib inline"
   ]
  },
  {
   "cell_type": "code",
   "execution_count": 2,
   "metadata": {},
   "outputs": [],
   "source": [
    "os.environ[\"CUDA_VISIBLE_DEVICES\"] = \"1,2\""
   ]
  },
  {
   "cell_type": "code",
   "execution_count": 3,
   "metadata": {},
   "outputs": [
    {
     "data": {
      "text/plain": [
       "<torch._C.Generator at 0x7f4bd9117e88>"
      ]
     },
     "execution_count": 3,
     "metadata": {},
     "output_type": "execute_result"
    }
   ],
   "source": [
    "import torch\n",
    "import torch.nn as nn\n",
    "import torch.nn.functional as F\n",
    "from torch import optim\n",
    "from torchsummary import summary\n",
    "from torch.autograd import grad\n",
    "\n",
    "SEED = 999\n",
    "torch.manual_seed(SEED)"
   ]
  },
  {
   "cell_type": "code",
   "execution_count": 4,
   "metadata": {},
   "outputs": [],
   "source": [
    "plt.rcParams.update({'font.size': 20})"
   ]
  },
  {
   "cell_type": "code",
   "execution_count": 5,
   "metadata": {},
   "outputs": [
    {
     "data": {
      "text/plain": [
       "[]"
      ]
     },
     "execution_count": 5,
     "metadata": {},
     "output_type": "execute_result"
    }
   ],
   "source": [
    "path = './input/'\n",
    "os.listdir(path)"
   ]
  },
  {
   "cell_type": "code",
   "execution_count": 6,
   "metadata": {},
   "outputs": [],
   "source": [
    "class SyntheticDataGenerator(object):\n",
    "    \"\"\"superclass of all synthetic data. WARNING: doesn't raise StopIteration so it loops forever!\"\"\"\n",
    "\n",
    "    def __iter__(self):\n",
    "        return self\n",
    "\n",
    "    def __next__(self):\n",
    "        return self.get_batch()\n",
    "\n",
    "    def get_batch(self):\n",
    "        raise NotImplementedError()\n",
    "\n",
    "    def float_tensor(self, batch):\n",
    "        return torch.from_numpy(batch).type(torch.FloatTensor)\n"
   ]
  },
  {
   "cell_type": "code",
   "execution_count": 7,
   "metadata": {},
   "outputs": [],
   "source": [
    "class StandardGaussianGenerator(SyntheticDataGenerator):\n",
    "    \"\"\"samples from Standard Gaussian.\"\"\"\n",
    "\n",
    "    def __init__(self,\n",
    "                 batch_size: int=256,\n",
    "                 scale: float=1.,\n",
    "                 eps_noise: float=1.):\n",
    "        self.batch_size = batch_size\n",
    "        scale = scale\n",
    "        self.eps_noise = eps_noise\n",
    "\n",
    "    def get_batch(self):\n",
    "        batch = []\n",
    "        for _ in range(self.batch_size):\n",
    "            point = np.random.randn(2) * self.eps_noise\n",
    "            batch.append(point)\n",
    "        batch = np.array(batch, dtype='float32')\n",
    "        batch = self.float_tensor(batch)\n",
    "        batch = batch[torch.randperm(batch.size(0)), :]\n",
    "        return batch\n"
   ]
  },
  {
   "cell_type": "code",
   "execution_count": 8,
   "metadata": {},
   "outputs": [],
   "source": [
    "class Eight_GMM_Generator(SyntheticDataGenerator):\n",
    "    \"\"\"samples from four 2D gaussians.\"\"\"\n",
    "\n",
    "    def __init__(self,\n",
    "                 batch_size: int=256,\n",
    "                 scale: float=10.,\n",
    "                 eps_noise: float=.5):\n",
    "        self.batch_size = batch_size\n",
    "        scale = scale\n",
    "        self.eps_noise = eps_noise\n",
    "\n",
    "        centers = [\n",
    "            (1,0),\n",
    "            (-1,0),\n",
    "            (0,1),\n",
    "            (0,-1),\n",
    "            (1./np.sqrt(2), 1./np.sqrt(2)),\n",
    "            (1./np.sqrt(2), -1./np.sqrt(2)),\n",
    "            (-1./np.sqrt(2), 1./np.sqrt(2)),\n",
    "            (-1./np.sqrt(2), -1./np.sqrt(2))\n",
    "        ]\n",
    "        \n",
    "        self.centers = [(scale*x,scale*y) for x,y in centers]\n",
    "\n",
    "    def get_batch(self):\n",
    "        batch = []\n",
    "        for i in range(self.batch_size):\n",
    "            \n",
    "            point = np.random.randn(2) * self.eps_noise\n",
    "            center = self.centers[i % 8]\n",
    "            point[0] += center[0]\n",
    "            point[1] += center[1]\n",
    "            batch.append(point)\n",
    "\n",
    "        batch = np.array(batch, dtype='float32')\n",
    "        batch = self.float_tensor(batch)\n",
    "        batch = batch[torch.randperm(batch.size(0)), :]\n",
    "        return batch"
   ]
  },
  {
   "cell_type": "code",
   "execution_count": 9,
   "metadata": {},
   "outputs": [],
   "source": [
    "## Gaussian to Gaussian\n",
    "Id = 2\n",
    "N = 10000\n"
   ]
  },
  {
   "cell_type": "code",
   "execution_count": 10,
   "metadata": {},
   "outputs": [
    {
     "data": {
      "text/plain": [
       "torch.Size([10000, 2])"
      ]
     },
     "execution_count": 10,
     "metadata": {},
     "output_type": "execute_result"
    }
   ],
   "source": [
    "x_data = Eight_GMM_Generator(N)\n",
    "x_batch = next(x_data)\n",
    "x_batch.shape"
   ]
  },
  {
   "cell_type": "code",
   "execution_count": 11,
   "metadata": {},
   "outputs": [
    {
     "data": {
      "text/plain": [
       "torch.Size([10000, 2])"
      ]
     },
     "execution_count": 11,
     "metadata": {},
     "output_type": "execute_result"
    }
   ],
   "source": [
    "y_data = StandardGaussianGenerator(N)\n",
    "y_batch = next(y_data)\n",
    "y_batch.shape"
   ]
  },
  {
   "cell_type": "code",
   "execution_count": 12,
   "metadata": {},
   "outputs": [
    {
     "data": {
      "text/plain": [
       "((10000, 2), (10000, 2))"
      ]
     },
     "execution_count": 12,
     "metadata": {},
     "output_type": "execute_result"
    }
   ],
   "source": [
    "P = x_batch.numpy()\n",
    "Q = y_batch.numpy()\n",
    "\n",
    "Q.shape, P.shape"
   ]
  },
  {
   "cell_type": "code",
   "execution_count": 13,
   "metadata": {},
   "outputs": [
    {
     "data": {
      "text/plain": [
       "(array([0.0125513 , 0.00283652], dtype=float32),\n",
       " array([ 0.00314896, -0.00385853], dtype=float32))"
      ]
     },
     "execution_count": 13,
     "metadata": {},
     "output_type": "execute_result"
    }
   ],
   "source": [
    "mu_q = Q[:,:2].mean(axis=0)\n",
    "mu_p = P[:,:2].mean(axis=0)\n",
    "\n",
    "mu_q, mu_p"
   ]
  },
  {
   "cell_type": "code",
   "execution_count": 14,
   "metadata": {},
   "outputs": [
    {
     "data": {
      "image/png": "[encoded data removed]",
      "text/plain": [
       "<Figure size 360x360 with 1 Axes>"
      ]
     },
     "metadata": {
      "needs_background": "light"
     },
     "output_type": "display_data"
    }
   ],
   "source": [
    "plt.figure(figsize=(5,5))\n",
    "plt.plot(Q[:100,0],Q[:100,1],'og',label='Source')\n",
    "plt.plot(P[:100,0],P[:100,1],'sk',label='Target')\n",
    "\n",
    "plt.plot(mu_q[0],mu_q[1],'or')\n",
    "plt.plot(mu_p[0],mu_p[1],'sr')\n",
    "\n",
    "plt.legend()\n",
    "plt.grid()"
   ]
  },
  {
   "cell_type": "code",
   "execution_count": 15,
   "metadata": {},
   "outputs": [
    {
     "data": {
      "text/plain": [
       "((10000, 2), (10000, 2))"
      ]
     },
     "execution_count": 15,
     "metadata": {},
     "output_type": "execute_result"
    }
   ],
   "source": [
    "Q.shape, P.shape"
   ]
  },
  {
   "cell_type": "code",
   "execution_count": 16,
   "metadata": {},
   "outputs": [
    {
     "data": {
      "text/plain": [
       "(torch.Size([3, 2]), torch.Size([3, 2]))"
      ]
     },
     "execution_count": 16,
     "metadata": {},
     "output_type": "execute_result"
    }
   ],
   "source": [
    "x = torch.FloatTensor(P[:3]).cuda()\n",
    "y = torch.FloatTensor(Q[:3]).cuda()\n",
    "x.shape, y.shape"
   ]
  },
  {
   "cell_type": "code",
   "execution_count": 17,
   "metadata": {},
   "outputs": [],
   "source": [
    "class Ki(nn.Module):\n",
    "    def __init__(self, features = 128):\n",
    "        super(Ki, self).__init__()\n",
    "        \n",
    "        self.W0b0 = nn.Linear(in_features=Id, out_features=features)\n",
    "        \n",
    "        self.W1b1 = nn.Linear(in_features=features, out_features=features)\n",
    "        \n",
    "        self.W2b2 = nn.Linear(in_features=features, out_features=features)\n",
    "        \n",
    "        self.W3b3 = nn.Linear(in_features=features, out_features=Id)\n",
    "        \n",
    "        \n",
    "    def forward(self, x):\n",
    "        x = F.leaky_relu(self.W0b0(x))\n",
    "        x = F.leaky_relu(self.W1b1(x))\n",
    "        x = F.leaky_relu(self.W2b2(x))\n",
    "        op = self.W3b3(x)\n",
    "        \n",
    "        return op\n",
    "        "
   ]
  },
  {
   "cell_type": "code",
   "execution_count": 18,
   "metadata": {},
   "outputs": [
    {
     "name": "stdout",
     "output_type": "stream",
     "text": [
      "----------------------------------------------------------------\n",
      "        Layer (type)               Output Shape         Param #\n",
      "================================================================\n",
      "            Linear-1               [-1, 1, 128]             384\n",
      "            Linear-2               [-1, 1, 128]          16,512\n",
      "            Linear-3               [-1, 1, 128]          16,512\n",
      "            Linear-4                 [-1, 1, 2]             258\n",
      "================================================================\n",
      "Total params: 33,666\n",
      "Trainable params: 33,666\n",
      "Non-trainable params: 0\n",
      "----------------------------------------------------------------\n",
      "Input size (MB): 0.00\n",
      "Forward/backward pass size (MB): 0.00\n",
      "Params size (MB): 0.13\n",
      "Estimated Total Size (MB): 0.13\n",
      "----------------------------------------------------------------\n"
     ]
    }
   ],
   "source": [
    "ki = Ki().cuda()\n",
    "summary(ki,(1,Id))"
   ]
  },
  {
   "cell_type": "code",
   "execution_count": 19,
   "metadata": {},
   "outputs": [],
   "source": [
    "class Psi(nn.Module):\n",
    "    def __init__(self, features = 128):\n",
    "        super(Psi, self).__init__()\n",
    "        \n",
    "        self.W0b0 = nn.Linear(in_features=Id, out_features=features)\n",
    "        \n",
    "        self.W1b1 = nn.Linear(in_features=features, out_features=features)\n",
    "        \n",
    "        self.W2b2 = nn.Linear(in_features=features, out_features=features)\n",
    "        \n",
    "        self.W3b3 = nn.Linear(in_features=features, out_features=1)\n",
    "        \n",
    "        \n",
    "    def forward(self, x):\n",
    "        x = F.leaky_relu(self.W0b0(x))\n",
    "        x = F.leaky_relu(self.W1b1(x))\n",
    "        x = F.leaky_relu(self.W2b2(x))\n",
    "        op = self.W3b3(x)\n",
    "        \n",
    "        return op\n",
    "        "
   ]
  },
  {
   "cell_type": "code",
   "execution_count": 20,
   "metadata": {},
   "outputs": [
    {
     "name": "stdout",
     "output_type": "stream",
     "text": [
      "----------------------------------------------------------------\n",
      "        Layer (type)               Output Shape         Param #\n",
      "================================================================\n",
      "            Linear-1               [-1, 1, 128]             384\n",
      "            Linear-2               [-1, 1, 128]          16,512\n",
      "            Linear-3               [-1, 1, 128]          16,512\n",
      "            Linear-4                 [-1, 1, 1]             129\n",
      "================================================================\n",
      "Total params: 33,537\n",
      "Trainable params: 33,537\n",
      "Non-trainable params: 0\n",
      "----------------------------------------------------------------\n",
      "Input size (MB): 0.00\n",
      "Forward/backward pass size (MB): 0.00\n",
      "Params size (MB): 0.13\n",
      "Estimated Total Size (MB): 0.13\n",
      "----------------------------------------------------------------\n"
     ]
    }
   ],
   "source": [
    "psi = Psi().cuda()\n",
    "summary(psi,(1,Id))"
   ]
  },
  {
   "cell_type": "code",
   "execution_count": 21,
   "metadata": {},
   "outputs": [
    {
     "data": {
      "text/plain": [
       "tensor([0.1378])"
      ]
     },
     "execution_count": 21,
     "metadata": {},
     "output_type": "execute_result"
    }
   ],
   "source": [
    "torch.rand(1)"
   ]
  },
  {
   "cell_type": "code",
   "execution_count": 22,
   "metadata": {},
   "outputs": [],
   "source": [
    "def PushForward(ki,x):\n",
    "    gradPhi = ki(x)\n",
    "    return gradPhi"
   ]
  },
  {
   "cell_type": "code",
   "execution_count": 23,
   "metadata": {},
   "outputs": [
    {
     "data": {
      "text/plain": [
       "tensor(0.8856, device='cuda:0', grad_fn=<MeanBackward0>)"
      ]
     },
     "execution_count": 23,
     "metadata": {},
     "output_type": "execute_result"
    }
   ],
   "source": [
    "def GradientPenalty(psi, ki, x, y):\n",
    "    batch_size = x.shape[0]\n",
    "    ip1 = nn.Parameter(x, requires_grad = True)\n",
    "    ip2 = torch.mean(ki(ip1))\n",
    "    \n",
    "    eta =torch.rand(1).cuda()\n",
    "    ip = nn.Parameter((eta*y+(1-eta)*ip2), requires_grad=True)\n",
    "    op = torch.mean(psi(ip))\n",
    "    \n",
    "    # compute gradient penalty\n",
    "    gp = torch.norm(grad(op, ip, create_graph=True)[0]*batch_size, 'fro', dim=1)\n",
    "    gp = torch.mean((gp-1)**2)\n",
    "    \n",
    "    return gp\n",
    "\n",
    "gp = GradientPenalty(psi, ki, x, y)\n",
    "gp"
   ]
  },
  {
   "cell_type": "code",
   "execution_count": 24,
   "metadata": {},
   "outputs": [
    {
     "data": {
      "text/plain": [
       "tensor(-1.1260, device='cuda:0', grad_fn=<MeanBackward0>)"
      ]
     },
     "execution_count": 24,
     "metadata": {},
     "output_type": "execute_result"
    }
   ],
   "source": [
    "def WassersteinLoss(psi,ki,x,y):\n",
    "    yp = PushForward(ki,x)\n",
    "    dot = torch.mean(x*yp, dim=1).unsqueeze(dim=1)\n",
    "    \n",
    "    loss = (psi(y) + dot - psi(yp)).mean()\n",
    "    return loss\n",
    "\n",
    "loss = WassersteinLoss(psi,ki,x,y)\n",
    "loss"
   ]
  },
  {
   "cell_type": "code",
   "execution_count": 25,
   "metadata": {},
   "outputs": [],
   "source": [
    "T = 10001\n",
    "M = 128\n",
    "K_ki = 16\n",
    "lam_gp =1.\n",
    "\n",
    "parallel = True"
   ]
  },
  {
   "cell_type": "code",
   "execution_count": 26,
   "metadata": {},
   "outputs": [
    {
     "data": {
      "text/plain": [
       "DataParallel(\n",
       "  (module): Ki(\n",
       "    (W0b0): Linear(in_features=2, out_features=128, bias=True)\n",
       "    (W1b1): Linear(in_features=128, out_features=128, bias=True)\n",
       "    (W2b2): Linear(in_features=128, out_features=128, bias=True)\n",
       "    (W3b3): Linear(in_features=128, out_features=2, bias=True)\n",
       "  )\n",
       ")"
      ]
     },
     "execution_count": 26,
     "metadata": {},
     "output_type": "execute_result"
    }
   ],
   "source": [
    "psi = Psi()\n",
    "ki = Ki()\n",
    "\n",
    "if parallel:\n",
    "    psi = nn.DataParallel(psi, [0,1])\n",
    "    ki = nn.DataParallel(ki, [0,1])\n",
    "\n",
    "psi.cuda()\n",
    "ki.cuda()\n"
   ]
  },
  {
   "cell_type": "code",
   "execution_count": 27,
   "metadata": {},
   "outputs": [],
   "source": [
    "Ki_opt = optim.Adam(ki.parameters(), betas=(0.5,0.99), lr = 1e-3)\n",
    "Psi_opt = optim.Adam(psi.parameters(), betas=(0.5,0.99), lr = 1e-3)"
   ]
  },
  {
   "cell_type": "code",
   "execution_count": 28,
   "metadata": {
    "scrolled": true
   },
   "outputs": [
    {
     "name": "stderr",
     "output_type": "stream",
     "text": [
      "  0%|          | 1/10001 [00:05<14:45:31,  5.31s/it]"
     ]
    },
    {
     "name": "stdout",
     "output_type": "stream",
     "text": [
      "Epoch:  0 | 10001 \t psi loss:  0.778 \t Gp loss:  0.93 \t ki loss:  0.02\n"
     ]
    },
    {
     "name": "stderr",
     "output_type": "stream",
     "text": [
      "  1%|          | 101/10001 [00:30<41:51,  3.94it/s] "
     ]
    },
    {
     "name": "stdout",
     "output_type": "stream",
     "text": [
      "Epoch:  100 | 10001 \t psi loss:  12.109 \t Gp loss:  3.86 \t ki loss:  -1.91\n"
     ]
    },
    {
     "name": "stderr",
     "output_type": "stream",
     "text": [
      "  2%|▏         | 201/10001 [00:55<41:03,  3.98it/s]"
     ]
    },
    {
     "name": "stdout",
     "output_type": "stream",
     "text": [
      "Epoch:  200 | 10001 \t psi loss:  -3.578 \t Gp loss:  1.59 \t ki loss:  -5.63\n"
     ]
    },
    {
     "name": "stderr",
     "output_type": "stream",
     "text": [
      "  3%|▎         | 301/10001 [01:19<41:00,  3.94it/s]"
     ]
    },
    {
     "name": "stdout",
     "output_type": "stream",
     "text": [
      "Epoch:  300 | 10001 \t psi loss:  8.226 \t Gp loss:  0.49 \t ki loss:  -7.23\n"
     ]
    },
    {
     "name": "stderr",
     "output_type": "stream",
     "text": [
      "  4%|▍         | 401/10001 [01:44<42:41,  3.75it/s]"
     ]
    },
    {
     "name": "stdout",
     "output_type": "stream",
     "text": [
      "Epoch:  400 | 10001 \t psi loss:  10.333 \t Gp loss:  0.27 \t ki loss:  -9.1\n"
     ]
    },
    {
     "name": "stderr",
     "output_type": "stream",
     "text": [
      "  5%|▌         | 501/10001 [02:12<44:15,  3.58it/s]"
     ]
    },
    {
     "name": "stdout",
     "output_type": "stream",
     "text": [
      "Epoch:  500 | 10001 \t psi loss:  3.186 \t Gp loss:  0.02 \t ki loss:  -8.13\n"
     ]
    },
    {
     "name": "stderr",
     "output_type": "stream",
     "text": [
      "  6%|▌         | 601/10001 [02:40<37:10,  4.22it/s]"
     ]
    },
    {
     "name": "stdout",
     "output_type": "stream",
     "text": [
      "Epoch:  600 | 10001 \t psi loss:  4.783 \t Gp loss:  0.32 \t ki loss:  -5.7\n"
     ]
    },
    {
     "name": "stderr",
     "output_type": "stream",
     "text": [
      "  7%|▋         | 701/10001 [03:04<38:54,  3.98it/s]"
     ]
    },
    {
     "name": "stdout",
     "output_type": "stream",
     "text": [
      "Epoch:  700 | 10001 \t psi loss:  4.312 \t Gp loss:  0.6 \t ki loss:  -3.29\n"
     ]
    },
    {
     "name": "stderr",
     "output_type": "stream",
     "text": [
      "  8%|▊         | 801/10001 [03:30<40:32,  3.78it/s]"
     ]
    },
    {
     "name": "stdout",
     "output_type": "stream",
     "text": [
      "Epoch:  800 | 10001 \t psi loss:  4.862 \t Gp loss:  1.71 \t ki loss:  -2.17\n"
     ]
    },
    {
     "name": "stderr",
     "output_type": "stream",
     "text": [
      "  9%|▉         | 901/10001 [03:56<43:35,  3.48it/s]"
     ]
    },
    {
     "name": "stdout",
     "output_type": "stream",
     "text": [
      "Epoch:  900 | 10001 \t psi loss:  -1.859 \t Gp loss:  0.79 \t ki loss:  -1.12\n"
     ]
    },
    {
     "name": "stderr",
     "output_type": "stream",
     "text": [
      " 10%|█         | 1001/10001 [04:24<43:18,  3.46it/s]"
     ]
    },
    {
     "name": "stdout",
     "output_type": "stream",
     "text": [
      "Epoch:  1000 | 10001 \t psi loss:  3.895 \t Gp loss:  1.26 \t ki loss:  -2.19\n"
     ]
    },
    {
     "name": "stderr",
     "output_type": "stream",
     "text": [
      " 11%|█         | 1102/10001 [04:50<28:29,  5.20it/s]"
     ]
    },
    {
     "name": "stdout",
     "output_type": "stream",
     "text": [
      "Epoch:  1100 | 10001 \t psi loss:  5.627 \t Gp loss:  0.61 \t ki loss:  -3.74\n"
     ]
    },
    {
     "name": "stderr",
     "output_type": "stream",
     "text": [
      " 12%|█▏        | 1201/10001 [05:18<41:03,  3.57it/s]"
     ]
    },
    {
     "name": "stdout",
     "output_type": "stream",
     "text": [
      "Epoch:  1200 | 10001 \t psi loss:  6.117 \t Gp loss:  0.17 \t ki loss:  -4.79\n"
     ]
    },
    {
     "name": "stderr",
     "output_type": "stream",
     "text": [
      " 13%|█▎        | 1301/10001 [05:46<41:04,  3.53it/s]"
     ]
    },
    {
     "name": "stdout",
     "output_type": "stream",
     "text": [
      "Epoch:  1300 | 10001 \t psi loss:  5.682 \t Gp loss:  0.44 \t ki loss:  -5.47\n"
     ]
    },
    {
     "name": "stderr",
     "output_type": "stream",
     "text": [
      " 14%|█▍        | 1401/10001 [06:14<39:46,  3.60it/s]"
     ]
    },
    {
     "name": "stdout",
     "output_type": "stream",
     "text": [
      "Epoch:  1400 | 10001 \t psi loss:  5.669 \t Gp loss:  0.24 \t ki loss:  -6.04\n"
     ]
    },
    {
     "name": "stderr",
     "output_type": "stream",
     "text": [
      " 15%|█▌        | 1501/10001 [06:42<39:52,  3.55it/s]"
     ]
    },
    {
     "name": "stdout",
     "output_type": "stream",
     "text": [
      "Epoch:  1500 | 10001 \t psi loss:  6.646 \t Gp loss:  0.1 \t ki loss:  -6.38\n"
     ]
    },
    {
     "name": "stderr",
     "output_type": "stream",
     "text": [
      " 16%|█▌        | 1602/10001 [07:06<23:36,  5.93it/s]"
     ]
    },
    {
     "name": "stdout",
     "output_type": "stream",
     "text": [
      "Epoch:  1600 | 10001 \t psi loss:  6.877 \t Gp loss:  0.05 \t ki loss:  -6.34\n"
     ]
    },
    {
     "name": "stderr",
     "output_type": "stream",
     "text": [
      " 17%|█▋        | 1701/10001 [07:27<39:19,  3.52it/s]"
     ]
    },
    {
     "name": "stdout",
     "output_type": "stream",
     "text": [
      "Epoch:  1700 | 10001 \t psi loss:  6.447 \t Gp loss:  0.1 \t ki loss:  -6.34\n"
     ]
    },
    {
     "name": "stderr",
     "output_type": "stream",
     "text": [
      " 18%|█▊        | 1801/10001 [07:55<38:21,  3.56it/s]"
     ]
    },
    {
     "name": "stdout",
     "output_type": "stream",
     "text": [
      "Epoch:  1800 | 10001 \t psi loss:  6.369 \t Gp loss:  0.09 \t ki loss:  -6.24\n"
     ]
    },
    {
     "name": "stderr",
     "output_type": "stream",
     "text": [
      " 19%|█▉        | 1901/10001 [08:24<37:20,  3.62it/s]"
     ]
    },
    {
     "name": "stdout",
     "output_type": "stream",
     "text": [
      "Epoch:  1900 | 10001 \t psi loss:  5.727 \t Gp loss:  0.1 \t ki loss:  -6.25\n"
     ]
    },
    {
     "name": "stderr",
     "output_type": "stream",
     "text": [
      " 20%|██        | 2002/10001 [08:52<26:17,  5.07it/s]"
     ]
    },
    {
     "name": "stdout",
     "output_type": "stream",
     "text": [
      "Epoch:  2000 | 10001 \t psi loss:  6.129 \t Gp loss:  0.1 \t ki loss:  -6.51\n"
     ]
    },
    {
     "name": "stderr",
     "output_type": "stream",
     "text": [
      " 21%|██        | 2101/10001 [09:17<36:54,  3.57it/s]"
     ]
    },
    {
     "name": "stdout",
     "output_type": "stream",
     "text": [
      "Epoch:  2100 | 10001 \t psi loss:  6.6 \t Gp loss:  0.07 \t ki loss:  -6.47\n"
     ]
    },
    {
     "name": "stderr",
     "output_type": "stream",
     "text": [
      " 22%|██▏       | 2201/10001 [09:45<36:18,  3.58it/s]"
     ]
    },
    {
     "name": "stdout",
     "output_type": "stream",
     "text": [
      "Epoch:  2200 | 10001 \t psi loss:  5.7 \t Gp loss:  0.05 \t ki loss:  -6.46\n"
     ]
    },
    {
     "name": "stderr",
     "output_type": "stream",
     "text": [
      " 23%|██▎       | 2301/10001 [10:14<36:41,  3.50it/s]"
     ]
    },
    {
     "name": "stdout",
     "output_type": "stream",
     "text": [
      "Epoch:  2300 | 10001 \t psi loss:  6.812 \t Gp loss:  0.03 \t ki loss:  -6.38\n"
     ]
    },
    {
     "name": "stderr",
     "output_type": "stream",
     "text": [
      " 24%|██▍       | 2401/10001 [10:43<36:52,  3.43it/s]"
     ]
    },
    {
     "name": "stdout",
     "output_type": "stream",
     "text": [
      "Epoch:  2400 | 10001 \t psi loss:  6.714 \t Gp loss:  0.06 \t ki loss:  -6.38\n"
     ]
    },
    {
     "name": "stderr",
     "output_type": "stream",
     "text": [
      " 25%|██▌       | 2501/10001 [11:10<37:56,  3.29it/s]"
     ]
    },
    {
     "name": "stdout",
     "output_type": "stream",
     "text": [
      "Epoch:  2500 | 10001 \t psi loss:  6.062 \t Gp loss:  0.16 \t ki loss:  -6.38\n"
     ]
    },
    {
     "name": "stderr",
     "output_type": "stream",
     "text": [
      " 26%|██▌       | 2601/10001 [11:39<36:26,  3.38it/s]"
     ]
    },
    {
     "name": "stdout",
     "output_type": "stream",
     "text": [
      "Epoch:  2600 | 10001 \t psi loss:  6.183 \t Gp loss:  0.1 \t ki loss:  -6.42\n"
     ]
    },
    {
     "name": "stderr",
     "output_type": "stream",
     "text": [
      " 27%|██▋       | 2701/10001 [12:09<35:24,  3.44it/s]"
     ]
    },
    {
     "name": "stdout",
     "output_type": "stream",
     "text": [
      "Epoch:  2700 | 10001 \t psi loss:  6.231 \t Gp loss:  0.03 \t ki loss:  -6.38\n"
     ]
    },
    {
     "name": "stderr",
     "output_type": "stream",
     "text": [
      " 28%|██▊       | 2801/10001 [12:38<34:53,  3.44it/s]"
     ]
    },
    {
     "name": "stdout",
     "output_type": "stream",
     "text": [
      "Epoch:  2800 | 10001 \t psi loss:  7.173 \t Gp loss:  0.05 \t ki loss:  -6.29\n"
     ]
    },
    {
     "name": "stderr",
     "output_type": "stream",
     "text": [
      " 29%|██▉       | 2901/10001 [13:07<35:09,  3.37it/s]"
     ]
    },
    {
     "name": "stdout",
     "output_type": "stream",
     "text": [
      "Epoch:  2900 | 10001 \t psi loss:  6.737 \t Gp loss:  0.2 \t ki loss:  -6.49\n"
     ]
    },
    {
     "name": "stderr",
     "output_type": "stream",
     "text": [
      " 30%|███       | 3001/10001 [13:37<34:05,  3.42it/s]"
     ]
    },
    {
     "name": "stdout",
     "output_type": "stream",
     "text": [
      "Epoch:  3000 | 10001 \t psi loss:  6.186 \t Gp loss:  0.14 \t ki loss:  -6.45\n"
     ]
    },
    {
     "name": "stderr",
     "output_type": "stream",
     "text": [
      " 31%|███       | 3101/10001 [14:04<32:39,  3.52it/s]"
     ]
    },
    {
     "name": "stdout",
     "output_type": "stream",
     "text": [
      "Epoch:  3100 | 10001 \t psi loss:  6.357 \t Gp loss:  0.08 \t ki loss:  -6.59\n"
     ]
    },
    {
     "name": "stderr",
     "output_type": "stream",
     "text": [
      " 32%|███▏      | 3201/10001 [14:33<33:56,  3.34it/s]"
     ]
    },
    {
     "name": "stdout",
     "output_type": "stream",
     "text": [
      "Epoch:  3200 | 10001 \t psi loss:  6.112 \t Gp loss:  0.04 \t ki loss:  -6.35\n"
     ]
    },
    {
     "name": "stderr",
     "output_type": "stream",
     "text": [
      " 33%|███▎      | 3301/10001 [15:03<33:54,  3.29it/s]"
     ]
    },
    {
     "name": "stdout",
     "output_type": "stream",
     "text": [
      "Epoch:  3300 | 10001 \t psi loss:  7.034 \t Gp loss:  0.24 \t ki loss:  -6.39\n"
     ]
    },
    {
     "name": "stderr",
     "output_type": "stream",
     "text": [
      " 34%|███▍      | 3401/10001 [15:33<32:13,  3.41it/s]"
     ]
    },
    {
     "name": "stdout",
     "output_type": "stream",
     "text": [
      "Epoch:  3400 | 10001 \t psi loss:  6.07 \t Gp loss:  0.06 \t ki loss:  -6.4\n"
     ]
    },
    {
     "name": "stderr",
     "output_type": "stream",
     "text": [
      " 35%|███▌      | 3501/10001 [16:02<32:28,  3.34it/s]"
     ]
    },
    {
     "name": "stdout",
     "output_type": "stream",
     "text": [
      "Epoch:  3500 | 10001 \t psi loss:  6.136 \t Gp loss:  0.06 \t ki loss:  -6.31\n"
     ]
    },
    {
     "name": "stderr",
     "output_type": "stream",
     "text": [
      " 36%|███▌      | 3601/10001 [16:32<31:23,  3.40it/s]"
     ]
    },
    {
     "name": "stdout",
     "output_type": "stream",
     "text": [
      "Epoch:  3600 | 10001 \t psi loss:  6.189 \t Gp loss:  0.06 \t ki loss:  -6.47\n"
     ]
    },
    {
     "name": "stderr",
     "output_type": "stream",
     "text": [
      " 37%|███▋      | 3701/10001 [16:59<30:38,  3.43it/s]"
     ]
    },
    {
     "name": "stdout",
     "output_type": "stream",
     "text": [
      "Epoch:  3700 | 10001 \t psi loss:  6.631 \t Gp loss:  0.25 \t ki loss:  -6.38\n"
     ]
    },
    {
     "name": "stderr",
     "output_type": "stream",
     "text": [
      " 38%|███▊      | 3802/10001 [17:22<18:24,  5.61it/s]"
     ]
    },
    {
     "name": "stdout",
     "output_type": "stream",
     "text": [
      "Epoch:  3800 | 10001 \t psi loss:  6.322 \t Gp loss:  0.06 \t ki loss:  -6.57\n"
     ]
    },
    {
     "name": "stderr",
     "output_type": "stream",
     "text": [
      " 39%|███▉      | 3901/10001 [17:48<29:17,  3.47it/s]"
     ]
    },
    {
     "name": "stdout",
     "output_type": "stream",
     "text": [
      "Epoch:  3900 | 10001 \t psi loss:  6.672 \t Gp loss:  0.02 \t ki loss:  -6.26\n"
     ]
    },
    {
     "name": "stderr",
     "output_type": "stream",
     "text": [
      " 40%|████      | 4001/10001 [18:17<29:16,  3.42it/s]"
     ]
    },
    {
     "name": "stdout",
     "output_type": "stream",
     "text": [
      "Epoch:  4000 | 10001 \t psi loss:  6.609 \t Gp loss:  0.04 \t ki loss:  -6.52\n"
     ]
    },
    {
     "name": "stderr",
     "output_type": "stream",
     "text": [
      " 41%|████      | 4101/10001 [18:46<27:27,  3.58it/s]"
     ]
    },
    {
     "name": "stdout",
     "output_type": "stream",
     "text": [
      "Epoch:  4100 | 10001 \t psi loss:  6.195 \t Gp loss:  0.06 \t ki loss:  -6.37\n"
     ]
    },
    {
     "name": "stderr",
     "output_type": "stream",
     "text": [
      " 42%|████▏     | 4201/10001 [19:13<27:18,  3.54it/s]"
     ]
    },
    {
     "name": "stdout",
     "output_type": "stream",
     "text": [
      "Epoch:  4200 | 10001 \t psi loss:  6.555 \t Gp loss:  0.06 \t ki loss:  -6.55\n"
     ]
    },
    {
     "name": "stderr",
     "output_type": "stream",
     "text": [
      " 43%|████▎     | 4301/10001 [19:42<27:23,  3.47it/s]"
     ]
    },
    {
     "name": "stdout",
     "output_type": "stream",
     "text": [
      "Epoch:  4300 | 10001 \t psi loss:  6.949 \t Gp loss:  0.07 \t ki loss:  -6.36\n"
     ]
    },
    {
     "name": "stderr",
     "output_type": "stream",
     "text": [
      " 44%|████▍     | 4401/10001 [20:12<27:30,  3.39it/s]"
     ]
    },
    {
     "name": "stdout",
     "output_type": "stream",
     "text": [
      "Epoch:  4400 | 10001 \t psi loss:  6.249 \t Gp loss:  0.07 \t ki loss:  -6.46\n"
     ]
    },
    {
     "name": "stderr",
     "output_type": "stream",
     "text": [
      " 45%|████▌     | 4501/10001 [20:41<26:56,  3.40it/s]"
     ]
    },
    {
     "name": "stdout",
     "output_type": "stream",
     "text": [
      "Epoch:  4500 | 10001 \t psi loss:  6.408 \t Gp loss:  0.02 \t ki loss:  -6.4\n"
     ]
    },
    {
     "name": "stderr",
     "output_type": "stream",
     "text": [
      " 46%|████▌     | 4601/10001 [21:10<26:38,  3.38it/s]"
     ]
    },
    {
     "name": "stdout",
     "output_type": "stream",
     "text": [
      "Epoch:  4600 | 10001 \t psi loss:  6.342 \t Gp loss:  0.05 \t ki loss:  -6.34\n"
     ]
    },
    {
     "name": "stderr",
     "output_type": "stream",
     "text": [
      " 47%|████▋     | 4701/10001 [21:39<26:03,  3.39it/s]"
     ]
    },
    {
     "name": "stdout",
     "output_type": "stream",
     "text": [
      "Epoch:  4700 | 10001 \t psi loss:  6.704 \t Gp loss:  0.33 \t ki loss:  -6.43\n"
     ]
    },
    {
     "name": "stderr",
     "output_type": "stream",
     "text": [
      " 48%|████▊     | 4801/10001 [22:08<24:58,  3.47it/s]"
     ]
    },
    {
     "name": "stdout",
     "output_type": "stream",
     "text": [
      "Epoch:  4800 | 10001 \t psi loss:  6.573 \t Gp loss:  0.03 \t ki loss:  -6.47\n"
     ]
    },
    {
     "name": "stderr",
     "output_type": "stream",
     "text": [
      " 49%|████▉     | 4901/10001 [22:37<25:23,  3.35it/s]"
     ]
    },
    {
     "name": "stdout",
     "output_type": "stream",
     "text": [
      "Epoch:  4900 | 10001 \t psi loss:  6.09 \t Gp loss:  0.05 \t ki loss:  -6.42\n"
     ]
    },
    {
     "name": "stderr",
     "output_type": "stream",
     "text": [
      " 50%|█████     | 5001/10001 [23:04<24:09,  3.45it/s]"
     ]
    },
    {
     "name": "stdout",
     "output_type": "stream",
     "text": [
      "Epoch:  5000 | 10001 \t psi loss:  6.093 \t Gp loss:  0.02 \t ki loss:  -6.42\n"
     ]
    },
    {
     "name": "stderr",
     "output_type": "stream",
     "text": [
      " 51%|█████     | 5101/10001 [23:33<24:02,  3.40it/s]"
     ]
    },
    {
     "name": "stdout",
     "output_type": "stream",
     "text": [
      "Epoch:  5100 | 10001 \t psi loss:  6.663 \t Gp loss:  0.04 \t ki loss:  -6.51\n"
     ]
    },
    {
     "name": "stderr",
     "output_type": "stream",
     "text": [
      " 52%|█████▏    | 5201/10001 [24:01<23:20,  3.43it/s]"
     ]
    },
    {
     "name": "stdout",
     "output_type": "stream",
     "text": [
      "Epoch:  5200 | 10001 \t psi loss:  6.613 \t Gp loss:  0.06 \t ki loss:  -6.39\n"
     ]
    },
    {
     "name": "stderr",
     "output_type": "stream",
     "text": [
      " 53%|█████▎    | 5301/10001 [24:30<23:13,  3.37it/s]"
     ]
    },
    {
     "name": "stdout",
     "output_type": "stream",
     "text": [
      "Epoch:  5300 | 10001 \t psi loss:  6.461 \t Gp loss:  0.28 \t ki loss:  -6.42\n"
     ]
    },
    {
     "name": "stderr",
     "output_type": "stream",
     "text": [
      " 54%|█████▍    | 5401/10001 [24:59<22:11,  3.45it/s]"
     ]
    },
    {
     "name": "stdout",
     "output_type": "stream",
     "text": [
      "Epoch:  5400 | 10001 \t psi loss:  6.645 \t Gp loss:  0.05 \t ki loss:  -6.51\n"
     ]
    },
    {
     "name": "stderr",
     "output_type": "stream",
     "text": [
      " 55%|█████▌    | 5501/10001 [25:28<21:36,  3.47it/s]"
     ]
    },
    {
     "name": "stdout",
     "output_type": "stream",
     "text": [
      "Epoch:  5500 | 10001 \t psi loss:  6.964 \t Gp loss:  0.28 \t ki loss:  -6.41\n"
     ]
    },
    {
     "name": "stderr",
     "output_type": "stream",
     "text": [
      " 56%|█████▌    | 5601/10001 [25:57<21:56,  3.34it/s]"
     ]
    },
    {
     "name": "stdout",
     "output_type": "stream",
     "text": [
      "Epoch:  5600 | 10001 \t psi loss:  6.898 \t Gp loss:  0.01 \t ki loss:  -6.41\n"
     ]
    },
    {
     "name": "stderr",
     "output_type": "stream",
     "text": [
      " 57%|█████▋    | 5701/10001 [26:27<19:26,  3.69it/s]"
     ]
    },
    {
     "name": "stdout",
     "output_type": "stream",
     "text": [
      "Epoch:  5700 | 10001 \t psi loss:  6.461 \t Gp loss:  0.02 \t ki loss:  -6.34\n"
     ]
    },
    {
     "name": "stderr",
     "output_type": "stream",
     "text": [
      " 58%|█████▊    | 5801/10001 [26:56<20:40,  3.39it/s]"
     ]
    },
    {
     "name": "stdout",
     "output_type": "stream",
     "text": [
      "Epoch:  5800 | 10001 \t psi loss:  6.354 \t Gp loss:  0.06 \t ki loss:  -6.45\n"
     ]
    },
    {
     "name": "stderr",
     "output_type": "stream",
     "text": [
      " 59%|█████▉    | 5902/10001 [27:23<12:14,  5.58it/s]"
     ]
    },
    {
     "name": "stdout",
     "output_type": "stream",
     "text": [
      "Epoch:  5900 | 10001 \t psi loss:  6.583 \t Gp loss:  0.05 \t ki loss:  -6.44\n"
     ]
    },
    {
     "name": "stderr",
     "output_type": "stream",
     "text": [
      " 60%|██████    | 6001/10001 [27:43<19:42,  3.38it/s]"
     ]
    },
    {
     "name": "stdout",
     "output_type": "stream",
     "text": [
      "Epoch:  6000 | 10001 \t psi loss:  5.875 \t Gp loss:  0.02 \t ki loss:  -6.21\n"
     ]
    },
    {
     "name": "stderr",
     "output_type": "stream",
     "text": [
      " 61%|██████    | 6101/10001 [28:12<18:34,  3.50it/s]"
     ]
    },
    {
     "name": "stdout",
     "output_type": "stream",
     "text": [
      "Epoch:  6100 | 10001 \t psi loss:  6.351 \t Gp loss:  0.13 \t ki loss:  -6.37\n"
     ]
    },
    {
     "name": "stderr",
     "output_type": "stream",
     "text": [
      " 62%|██████▏   | 6201/10001 [28:41<18:07,  3.49it/s]"
     ]
    },
    {
     "name": "stdout",
     "output_type": "stream",
     "text": [
      "Epoch:  6200 | 10001 \t psi loss:  6.361 \t Gp loss:  0.01 \t ki loss:  -6.37\n"
     ]
    },
    {
     "name": "stderr",
     "output_type": "stream",
     "text": [
      " 63%|██████▎   | 6301/10001 [29:08<17:54,  3.44it/s]"
     ]
    },
    {
     "name": "stdout",
     "output_type": "stream",
     "text": [
      "Epoch:  6300 | 10001 \t psi loss:  6.647 \t Gp loss:  0.02 \t ki loss:  -6.37\n"
     ]
    },
    {
     "name": "stderr",
     "output_type": "stream",
     "text": [
      " 64%|██████▍   | 6401/10001 [29:35<18:18,  3.28it/s]"
     ]
    },
    {
     "name": "stdout",
     "output_type": "stream",
     "text": [
      "Epoch:  6400 | 10001 \t psi loss:  6.095 \t Gp loss:  0.06 \t ki loss:  -6.43\n"
     ]
    },
    {
     "name": "stderr",
     "output_type": "stream",
     "text": [
      " 65%|██████▌   | 6501/10001 [30:04<16:53,  3.45it/s]"
     ]
    },
    {
     "name": "stdout",
     "output_type": "stream",
     "text": [
      "Epoch:  6500 | 10001 \t psi loss:  6.234 \t Gp loss:  0.05 \t ki loss:  -6.33\n"
     ]
    },
    {
     "name": "stderr",
     "output_type": "stream",
     "text": [
      " 66%|██████▌   | 6601/10001 [30:34<17:10,  3.30it/s]"
     ]
    },
    {
     "name": "stdout",
     "output_type": "stream",
     "text": [
      "Epoch:  6600 | 10001 \t psi loss:  6.579 \t Gp loss:  0.01 \t ki loss:  -6.51\n"
     ]
    },
    {
     "name": "stderr",
     "output_type": "stream",
     "text": [
      " 67%|██████▋   | 6701/10001 [31:03<16:24,  3.35it/s]"
     ]
    },
    {
     "name": "stdout",
     "output_type": "stream",
     "text": [
      "Epoch:  6700 | 10001 \t psi loss:  6.577 \t Gp loss:  0.16 \t ki loss:  -6.43\n"
     ]
    },
    {
     "name": "stderr",
     "output_type": "stream",
     "text": [
      " 68%|██████▊   | 6801/10001 [31:32<15:31,  3.44it/s]"
     ]
    },
    {
     "name": "stdout",
     "output_type": "stream",
     "text": [
      "Epoch:  6800 | 10001 \t psi loss:  5.672 \t Gp loss:  0.03 \t ki loss:  -6.38\n"
     ]
    },
    {
     "name": "stderr",
     "output_type": "stream",
     "text": [
      " 69%|██████▉   | 6901/10001 [32:02<15:10,  3.40it/s]"
     ]
    },
    {
     "name": "stdout",
     "output_type": "stream",
     "text": [
      "Epoch:  6900 | 10001 \t psi loss:  7.14 \t Gp loss:  0.05 \t ki loss:  -6.45\n"
     ]
    },
    {
     "name": "stderr",
     "output_type": "stream",
     "text": [
      " 70%|███████   | 7001/10001 [32:30<14:32,  3.44it/s]"
     ]
    },
    {
     "name": "stdout",
     "output_type": "stream",
     "text": [
      "Epoch:  7000 | 10001 \t psi loss:  6.068 \t Gp loss:  0.02 \t ki loss:  -6.46\n"
     ]
    },
    {
     "name": "stderr",
     "output_type": "stream",
     "text": [
      " 71%|███████   | 7101/10001 [32:58<12:58,  3.72it/s]"
     ]
    },
    {
     "name": "stdout",
     "output_type": "stream",
     "text": [
      "Epoch:  7100 | 10001 \t psi loss:  6.836 \t Gp loss:  0.3 \t ki loss:  -6.37\n"
     ]
    },
    {
     "name": "stderr",
     "output_type": "stream",
     "text": [
      " 72%|███████▏  | 7201/10001 [33:27<13:10,  3.54it/s]"
     ]
    },
    {
     "name": "stdout",
     "output_type": "stream",
     "text": [
      "Epoch:  7200 | 10001 \t psi loss:  6.19 \t Gp loss:  0.02 \t ki loss:  -6.35\n"
     ]
    },
    {
     "name": "stderr",
     "output_type": "stream",
     "text": [
      " 73%|███████▎  | 7301/10001 [33:56<12:09,  3.70it/s]"
     ]
    },
    {
     "name": "stdout",
     "output_type": "stream",
     "text": [
      "Epoch:  7300 | 10001 \t psi loss:  7.03 \t Gp loss:  0.2 \t ki loss:  -6.37\n"
     ]
    },
    {
     "name": "stderr",
     "output_type": "stream",
     "text": [
      " 74%|███████▍  | 7401/10001 [34:22<12:31,  3.46it/s]"
     ]
    },
    {
     "name": "stdout",
     "output_type": "stream",
     "text": [
      "Epoch:  7400 | 10001 \t psi loss:  6.481 \t Gp loss:  0.01 \t ki loss:  -6.37\n"
     ]
    },
    {
     "name": "stderr",
     "output_type": "stream",
     "text": [
      " 75%|███████▌  | 7501/10001 [34:51<11:45,  3.54it/s]"
     ]
    },
    {
     "name": "stdout",
     "output_type": "stream",
     "text": [
      "Epoch:  7500 | 10001 \t psi loss:  6.63 \t Gp loss:  0.28 \t ki loss:  -6.39\n"
     ]
    },
    {
     "name": "stderr",
     "output_type": "stream",
     "text": [
      " 76%|███████▌  | 7601/10001 [35:18<11:40,  3.43it/s]"
     ]
    },
    {
     "name": "stdout",
     "output_type": "stream",
     "text": [
      "Epoch:  7600 | 10001 \t psi loss:  6.85 \t Gp loss:  0.01 \t ki loss:  -6.63\n"
     ]
    },
    {
     "name": "stderr",
     "output_type": "stream",
     "text": [
      " 77%|███████▋  | 7701/10001 [35:47<10:46,  3.56it/s]"
     ]
    },
    {
     "name": "stdout",
     "output_type": "stream",
     "text": [
      "Epoch:  7700 | 10001 \t psi loss:  6.923 \t Gp loss:  0.01 \t ki loss:  -6.4\n"
     ]
    },
    {
     "name": "stderr",
     "output_type": "stream",
     "text": [
      " 78%|███████▊  | 7801/10001 [36:16<10:51,  3.38it/s]"
     ]
    },
    {
     "name": "stdout",
     "output_type": "stream",
     "text": [
      "Epoch:  7800 | 10001 \t psi loss:  6.739 \t Gp loss:  0.34 \t ki loss:  -6.43\n"
     ]
    },
    {
     "name": "stderr",
     "output_type": "stream",
     "text": [
      " 79%|███████▉  | 7901/10001 [36:46<10:11,  3.44it/s]"
     ]
    },
    {
     "name": "stdout",
     "output_type": "stream",
     "text": [
      "Epoch:  7900 | 10001 \t psi loss:  6.654 \t Gp loss:  0.02 \t ki loss:  -6.35\n"
     ]
    },
    {
     "name": "stderr",
     "output_type": "stream",
     "text": [
      " 80%|████████  | 8001/10001 [37:15<09:35,  3.48it/s]"
     ]
    },
    {
     "name": "stdout",
     "output_type": "stream",
     "text": [
      "Epoch:  8000 | 10001 \t psi loss:  6.577 \t Gp loss:  0.1 \t ki loss:  -6.47\n"
     ]
    },
    {
     "name": "stderr",
     "output_type": "stream",
     "text": [
      " 81%|████████  | 8102/10001 [37:39<05:35,  5.67it/s]"
     ]
    },
    {
     "name": "stdout",
     "output_type": "stream",
     "text": [
      "Epoch:  8100 | 10001 \t psi loss:  6.799 \t Gp loss:  0.04 \t ki loss:  -6.47\n"
     ]
    },
    {
     "name": "stderr",
     "output_type": "stream",
     "text": [
      " 82%|████████▏ | 8201/10001 [38:02<08:58,  3.34it/s]"
     ]
    },
    {
     "name": "stdout",
     "output_type": "stream",
     "text": [
      "Epoch:  8200 | 10001 \t psi loss:  6.185 \t Gp loss:  0.0 \t ki loss:  -6.36\n"
     ]
    },
    {
     "name": "stderr",
     "output_type": "stream",
     "text": [
      " 83%|████████▎ | 8301/10001 [38:31<08:14,  3.44it/s]"
     ]
    },
    {
     "name": "stdout",
     "output_type": "stream",
     "text": [
      "Epoch:  8300 | 10001 \t psi loss:  6.321 \t Gp loss:  0.06 \t ki loss:  -6.37\n"
     ]
    },
    {
     "name": "stderr",
     "output_type": "stream",
     "text": [
      " 84%|████████▍ | 8401/10001 [39:00<07:56,  3.36it/s]"
     ]
    },
    {
     "name": "stdout",
     "output_type": "stream",
     "text": [
      "Epoch:  8400 | 10001 \t psi loss:  6.041 \t Gp loss:  0.03 \t ki loss:  -6.4\n"
     ]
    },
    {
     "name": "stderr",
     "output_type": "stream",
     "text": [
      " 85%|████████▌ | 8501/10001 [39:27<07:08,  3.50it/s]"
     ]
    },
    {
     "name": "stdout",
     "output_type": "stream",
     "text": [
      "Epoch:  8500 | 10001 \t psi loss:  6.302 \t Gp loss:  0.01 \t ki loss:  -6.53\n"
     ]
    },
    {
     "name": "stderr",
     "output_type": "stream",
     "text": [
      " 86%|████████▌ | 8601/10001 [39:56<06:56,  3.36it/s]"
     ]
    },
    {
     "name": "stdout",
     "output_type": "stream",
     "text": [
      "Epoch:  8600 | 10001 \t psi loss:  5.956 \t Gp loss:  0.03 \t ki loss:  -6.39\n"
     ]
    },
    {
     "name": "stderr",
     "output_type": "stream",
     "text": [
      " 87%|████████▋ | 8701/10001 [40:26<06:32,  3.31it/s]"
     ]
    },
    {
     "name": "stdout",
     "output_type": "stream",
     "text": [
      "Epoch:  8700 | 10001 \t psi loss:  6.803 \t Gp loss:  0.01 \t ki loss:  -6.39\n"
     ]
    },
    {
     "name": "stderr",
     "output_type": "stream",
     "text": [
      " 88%|████████▊ | 8801/10001 [40:55<05:33,  3.60it/s]"
     ]
    },
    {
     "name": "stdout",
     "output_type": "stream",
     "text": [
      "Epoch:  8800 | 10001 \t psi loss:  6.596 \t Gp loss:  0.02 \t ki loss:  -6.44\n"
     ]
    },
    {
     "name": "stderr",
     "output_type": "stream",
     "text": [
      " 89%|████████▉ | 8901/10001 [41:22<05:03,  3.62it/s]"
     ]
    },
    {
     "name": "stdout",
     "output_type": "stream",
     "text": [
      "Epoch:  8900 | 10001 \t psi loss:  6.5 \t Gp loss:  0.26 \t ki loss:  -6.38\n"
     ]
    },
    {
     "name": "stderr",
     "output_type": "stream",
     "text": [
      " 90%|█████████ | 9001/10001 [41:51<04:47,  3.48it/s]"
     ]
    },
    {
     "name": "stdout",
     "output_type": "stream",
     "text": [
      "Epoch:  9000 | 10001 \t psi loss:  6.496 \t Gp loss:  0.02 \t ki loss:  -6.39\n"
     ]
    },
    {
     "name": "stderr",
     "output_type": "stream",
     "text": [
      " 91%|█████████ | 9101/10001 [42:20<04:33,  3.29it/s]"
     ]
    },
    {
     "name": "stdout",
     "output_type": "stream",
     "text": [
      "Epoch:  9100 | 10001 \t psi loss:  6.465 \t Gp loss:  0.26 \t ki loss:  -6.55\n"
     ]
    },
    {
     "name": "stderr",
     "output_type": "stream",
     "text": [
      " 92%|█████████▏| 9201/10001 [42:50<03:58,  3.36it/s]"
     ]
    },
    {
     "name": "stdout",
     "output_type": "stream",
     "text": [
      "Epoch:  9200 | 10001 \t psi loss:  6.336 \t Gp loss:  0.02 \t ki loss:  -6.45\n"
     ]
    },
    {
     "name": "stderr",
     "output_type": "stream",
     "text": [
      " 93%|█████████▎| 9301/10001 [43:19<03:24,  3.42it/s]"
     ]
    },
    {
     "name": "stdout",
     "output_type": "stream",
     "text": [
      "Epoch:  9300 | 10001 \t psi loss:  6.858 \t Gp loss:  0.01 \t ki loss:  -6.51\n"
     ]
    },
    {
     "name": "stderr",
     "output_type": "stream",
     "text": [
      " 94%|█████████▍| 9401/10001 [43:48<02:55,  3.43it/s]"
     ]
    },
    {
     "name": "stdout",
     "output_type": "stream",
     "text": [
      "Epoch:  9400 | 10001 \t psi loss:  6.358 \t Gp loss:  0.01 \t ki loss:  -6.35\n"
     ]
    },
    {
     "name": "stderr",
     "output_type": "stream",
     "text": [
      " 95%|█████████▌| 9501/10001 [44:15<02:22,  3.51it/s]"
     ]
    },
    {
     "name": "stdout",
     "output_type": "stream",
     "text": [
      "Epoch:  9500 | 10001 \t psi loss:  6.438 \t Gp loss:  0.05 \t ki loss:  -6.48\n"
     ]
    },
    {
     "name": "stderr",
     "output_type": "stream",
     "text": [
      " 96%|█████████▌| 9601/10001 [44:44<01:59,  3.33it/s]"
     ]
    },
    {
     "name": "stdout",
     "output_type": "stream",
     "text": [
      "Epoch:  9600 | 10001 \t psi loss:  6.499 \t Gp loss:  0.01 \t ki loss:  -6.45\n"
     ]
    },
    {
     "name": "stderr",
     "output_type": "stream",
     "text": [
      " 97%|█████████▋| 9701/10001 [45:13<01:27,  3.44it/s]"
     ]
    },
    {
     "name": "stdout",
     "output_type": "stream",
     "text": [
      "Epoch:  9700 | 10001 \t psi loss:  6.304 \t Gp loss:  0.0 \t ki loss:  -6.38\n"
     ]
    },
    {
     "name": "stderr",
     "output_type": "stream",
     "text": [
      " 98%|█████████▊| 9801/10001 [45:43<00:57,  3.50it/s]"
     ]
    },
    {
     "name": "stdout",
     "output_type": "stream",
     "text": [
      "Epoch:  9800 | 10001 \t psi loss:  6.43 \t Gp loss:  0.01 \t ki loss:  -6.31\n"
     ]
    },
    {
     "name": "stderr",
     "output_type": "stream",
     "text": [
      " 99%|█████████▉| 9901/10001 [46:12<00:30,  3.31it/s]"
     ]
    },
    {
     "name": "stdout",
     "output_type": "stream",
     "text": [
      "Epoch:  9900 | 10001 \t psi loss:  6.396 \t Gp loss:  0.01 \t ki loss:  -6.28\n"
     ]
    },
    {
     "name": "stderr",
     "output_type": "stream",
     "text": [
      "100%|██████████| 10001/10001 [46:41<00:00,  3.43it/s]"
     ]
    },
    {
     "name": "stdout",
     "output_type": "stream",
     "text": [
      "Epoch:  10000 | 10001 \t psi loss:  6.584 \t Gp loss:  0.01 \t ki loss:  -6.23\n",
      "CPU times: user 45min 19s, sys: 9min 33s, total: 54min 53s\n",
      "Wall time: 46min 41s\n"
     ]
    },
    {
     "name": "stderr",
     "output_type": "stream",
     "text": [
      "\n"
     ]
    }
   ],
   "source": [
    "%%time\n",
    "psi_l = []\n",
    "ki_l = []\n",
    "Gp_l = []\n",
    "\n",
    "for t in tqdm(range(T)):\n",
    "    y_idxs = random.sample(range(0,P.shape[0]), M)\n",
    "    y_batch = torch.FloatTensor(P[y_idxs]).cuda()\n",
    "    \n",
    "    ## Multiple infimum updates to restrict exploding loss\n",
    "    x_idxs = random.sample(range(0,Q.shape[0]), M)\n",
    "    x_batch = torch.FloatTensor(Q[x_idxs]).cuda()\n",
    "\n",
    "    ##########################################################\n",
    "    ## Outer minimization loop\n",
    "    ##########################################################       \n",
    "    ## Fix Ki and update Psi to compute infimum. \n",
    "    for param in psi.parameters():\n",
    "        param.requires_grad = True\n",
    "    for param in ki.parameters():\n",
    "        param.requires_grad = False\n",
    "\n",
    "    gp_loss = GradientPenalty(psi, ki, x_batch, y_batch)\n",
    "    Psi_loss = WassersteinLoss(psi, ki, x_batch, y_batch) + lam_gp * gp_loss\n",
    "\n",
    "    Psi_opt.zero_grad()\n",
    "    Psi_loss.backward(retain_graph=True)\n",
    "    Psi_opt.step()\n",
    "\n",
    "\n",
    "    psi_l.append(Psi_loss.item())\n",
    "    Gp_l.append(gp_loss.item())\n",
    "\n",
    "    ##########################################################\n",
    "    ## Inner maximization loop: update once for every C updates\n",
    "    ##########################################################\n",
    "    ki_l_ = []\n",
    "    for _ in range(K_ki):\n",
    "        idxs = random.sample(range(0,P.shape[0]), M)\n",
    "        y_batch = torch.FloatTensor(P[idxs]).cuda()\n",
    "        x_batch = torch.FloatTensor(Q[idxs]).cuda()\n",
    "\n",
    "        # print('Data: ', x_batch.shape, y_batch.shape)\n",
    "\n",
    "        # sys.exit()\n",
    "        ## Fix Psi and update Ki to compute convex conjugate/ supremum \n",
    "        for param in psi.parameters():\n",
    "            param.requires_grad = False\n",
    "        for param in ki.parameters():\n",
    "            param.requires_grad = True\n",
    "\n",
    "        Ki_loss = - WassersteinLoss(psi, ki, x_batch, y_batch) \n",
    "\n",
    "        Ki_opt.zero_grad()\n",
    "        Ki_loss.backward(retain_graph=True)\n",
    "        Ki_opt.step()\n",
    "\n",
    "        ki_l_.append(Ki_loss.item())\n",
    "    ki_l.append(np.asarray(ki_l_).mean())\n",
    "        \n",
    "    if t%100==0:\n",
    "        print(\"Epoch: \", t,\"|\",T, \"\\t psi loss: \", np.round(psi_l[-1],3),\"\\t Gp loss: \",np.round(Gp_l[-1],2), \"\\t ki loss: \", np.round(ki_l[-1],2)) \n",
    "        \n",
    "        "
   ]
  },
  {
   "cell_type": "code",
   "execution_count": 29,
   "metadata": {},
   "outputs": [
    {
     "data": {
      "text/plain": [
       "<matplotlib.legend.Legend at 0x7f4b22030dd8>"
      ]
     },
     "execution_count": 29,
     "metadata": {},
     "output_type": "execute_result"
    },
    {
     "data": {
      "image/png": "[encoded data removed]",
      "text/plain": [
       "<Figure size 432x288 with 1 Axes>"
      ]
     },
     "metadata": {
      "needs_background": "light"
     },
     "output_type": "display_data"
    }
   ],
   "source": [
    "plt.plot(psi_l,'r', label='Sup')\n",
    "plt.plot(ki_l,'g', label='Inf')\n",
    "plt.legend()"
   ]
  },
  {
   "cell_type": "code",
   "execution_count": 30,
   "metadata": {},
   "outputs": [],
   "source": [
    "plt.rcParams.update({'font.size': 30})"
   ]
  },
  {
   "cell_type": "code",
   "execution_count": 31,
   "metadata": {},
   "outputs": [
    {
     "data": {
      "image/png": "[encoded data removed]",
      "text/plain": [
       "<Figure size 1440x720 with 1 Axes>"
      ]
     },
     "metadata": {
      "needs_background": "light"
     },
     "output_type": "display_data"
    }
   ],
   "source": [
    "psi_l = np.asarray(psi_l)\n",
    "ki_l = np.asarray(ki_l)\n",
    "\n",
    "psi_l[psi_l>1e+3] = 1e+3\n",
    "ki_l[ki_l>1e+3] = 1e+3\n",
    "\n",
    "psi_l[psi_l<-1e+3] = -1e+3\n",
    "ki_l[ki_l<-1e+3] = -1e+3\n",
    "\n",
    "plt.figure(figsize=(20,10))\n",
    "plt.plot(psi_l,'r', label='Sup')\n",
    "plt.plot(ki_l,'g', label='Inf')\n",
    "plt.legend()\n",
    "\n",
    "plt.savefig('./output/Toy/OTM_Barry8Gauss_training.jpg', bbox_inches='tight')\n"
   ]
  },
  {
   "cell_type": "code",
   "execution_count": 32,
   "metadata": {},
   "outputs": [
    {
     "data": {
      "text/plain": [
       "(torch.Size([200, 2]), torch.Size([200, 2]), torch.Size([200, 2]))"
      ]
     },
     "execution_count": 32,
     "metadata": {},
     "output_type": "execute_result"
    }
   ],
   "source": [
    "## Compute Transport plan\n",
    "n = 200\n",
    "indxs = random.sample(range(0,P.shape[0]), n)\n",
    "\n",
    "y = torch.FloatTensor(P[indxs]).cuda()\n",
    "x = torch.FloatTensor(Q[indxs]).cuda()\n",
    "Tx = PushForward(ki,x)\n",
    "\n",
    "x.shape, y.shape, Tx.shape"
   ]
  },
  {
   "cell_type": "code",
   "execution_count": 33,
   "metadata": {},
   "outputs": [
    {
     "data": {
      "text/plain": [
       "((200, 2), (200, 2), (200, 2))"
      ]
     },
     "execution_count": 33,
     "metadata": {},
     "output_type": "execute_result"
    }
   ],
   "source": [
    "x = x.detach().cpu().numpy()\n",
    "y = y.detach().cpu().numpy()\n",
    "Tx = Tx.detach().cpu().numpy()\n",
    "mu_t = Tx.mean(axis=0)\n",
    "\n",
    "x.shape, y.shape, Tx.shape"
   ]
  },
  {
   "cell_type": "code",
   "execution_count": 62,
   "metadata": {},
   "outputs": [
    {
     "data": {
      "image/png": "[encoded data removed]",
      "text/plain": [
       "<Figure size 720x720 with 1 Axes>"
      ]
     },
     "metadata": {
      "needs_background": "light"
     },
     "output_type": "display_data"
    }
   ],
   "source": [
    "plt.figure(figsize=(10,10))\n",
    "plt.plot(x[:,0],x[:,1],'og',label='Input (x)', color='forestgreen')\n",
    "plt.plot(y[:,0],y[:,1],'s',label='Output (y)', color='peru')\n",
    "plt.plot(Tx[:,0],Tx[:,1],'d',label='Transport (Tx)', color='blue')\n",
    "\n",
    "for i in range(x.shape[0]):\n",
    "    plt.arrow(x[i,0], x[i,1], Tx[i,0] - x[i,0], Tx[i,1] - x[i,1],  alpha=0.2, head_width=0.03, head_length = 0.05, fc='y', ec = 'y', color='y')\n",
    "\n",
    "# plt.legend()\n",
    "plt.grid()\n",
    "\n",
    "plt.savefig('./output/Toy/OTM_Barry8Gauss_grid.pdf', bbox_inches='tight')\n"
   ]
  },
  {
   "cell_type": "code",
   "execution_count": 61,
   "metadata": {},
   "outputs": [
    {
     "data": {
      "image/png": "[encoded data removed]",
      "text/plain": [
       "<Figure size 720x720 with 1 Axes>"
      ]
     },
     "metadata": {
      "needs_background": "light"
     },
     "output_type": "display_data"
    }
   ],
   "source": [
    "plt.figure(figsize=(10,10))\n",
    "plt.plot(x[:,0],x[:,1],'og',label='Input (x)', color='forestgreen')\n",
    "plt.plot(y[:,0],y[:,1],'s',label='Output (y)', color='peru')\n",
    "plt.plot(Tx[:,0],Tx[:,1],'d',label='Transport (Tx)', color='blue')\n",
    "\n",
    "for i in range(x.shape[0]):\n",
    "    plt.arrow(x[i,0], x[i,1], Tx[i,0] - x[i,0], Tx[i,1] - x[i,1],  alpha=0.2, head_width=0.03, head_length = 0.05, fc='y', ec = 'y', color='y')\n",
    "\n",
    "plt.legend()\n",
    "plt.grid('off')\n",
    "\n",
    "plt.savefig('./output/Toy/OTM_Barry8Gauss.jpg', bbox_inches='tight')\n"
   ]
  },
  {
   "cell_type": "code",
   "execution_count": null,
   "metadata": {},
   "outputs": [],
   "source": []
  }
 ],
 "metadata": {
  "kernelspec": {
   "display_name": "Python 3",
   "language": "python",
   "name": "python3"
  },
  "language_info": {
   "codemirror_mode": {
    "name": "ipython",
    "version": 3
   },
   "file_extension": ".py",
   "mimetype": "text/x-python",
   "name": "python",
   "nbconvert_exporter": "python",
   "pygments_lexer": "ipython3",
   "version": "3.7.7"
  }
 },
 "nbformat": 4,
 "nbformat_minor": 2
}
