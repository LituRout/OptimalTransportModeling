{
 "cells": [
  {
   "cell_type": "code",
   "execution_count": 1,
   "metadata": {},
   "outputs": [],
   "source": [
    "import matplotlib.pyplot as plt\n",
    "import numpy as np\n",
    "import os\n",
    "import sys\n",
    "import random\n",
    "import seaborn as sns\n",
    "from sklearn import datasets\n",
    "from tqdm import tqdm\n",
    "\n",
    "%matplotlib inline"
   ]
  },
  {
   "cell_type": "code",
   "execution_count": 2,
   "metadata": {},
   "outputs": [],
   "source": [
    "os.environ[\"CUDA_VISIBLE_DEVICES\"] = \"1,2\""
   ]
  },
  {
   "cell_type": "code",
   "execution_count": 3,
   "metadata": {},
   "outputs": [
    {
     "data": {
      "text/plain": [
       "<torch._C.Generator at 0x7fe3e05e8e88>"
      ]
     },
     "execution_count": 3,
     "metadata": {},
     "output_type": "execute_result"
    }
   ],
   "source": [
    "import torch\n",
    "import torch.nn as nn\n",
    "import torch.nn.functional as F\n",
    "from torch import optim\n",
    "from torchsummary import summary\n",
    "from torch.autograd import grad\n",
    "\n",
    "SEED = 999\n",
    "torch.manual_seed(SEED)"
   ]
  },
  {
   "cell_type": "code",
   "execution_count": 4,
   "metadata": {},
   "outputs": [],
   "source": [
    "plt.rcParams.update({'font.size': 20})"
   ]
  },
  {
   "cell_type": "code",
   "execution_count": 5,
   "metadata": {},
   "outputs": [
    {
     "data": {
      "text/plain": [
       "[]"
      ]
     },
     "execution_count": 5,
     "metadata": {},
     "output_type": "execute_result"
    }
   ],
   "source": [
    "path = './input/'\n",
    "os.listdir(path)"
   ]
  },
  {
   "cell_type": "code",
   "execution_count": 6,
   "metadata": {},
   "outputs": [],
   "source": [
    "class SyntheticDataGenerator(object):\n",
    "    \"\"\"superclass of all synthetic data. WARNING: doesn't raise StopIteration so it loops forever!\"\"\"\n",
    "\n",
    "    def __iter__(self):\n",
    "        return self\n",
    "\n",
    "    def __next__(self):\n",
    "        return self.get_batch()\n",
    "\n",
    "    def get_batch(self):\n",
    "        raise NotImplementedError()\n",
    "\n",
    "    def float_tensor(self, batch):\n",
    "        return torch.from_numpy(batch).type(torch.FloatTensor)\n"
   ]
  },
  {
   "cell_type": "code",
   "execution_count": 7,
   "metadata": {},
   "outputs": [],
   "source": [
    "class StandardGaussianGenerator(SyntheticDataGenerator):\n",
    "    \"\"\"samples from Standard Gaussian.\"\"\"\n",
    "\n",
    "    def __init__(self,\n",
    "                 batch_size: int=256,\n",
    "                 scale: float=1.,\n",
    "                 eps_noise: float=1.):\n",
    "        self.batch_size = batch_size\n",
    "        scale = scale\n",
    "        self.eps_noise = eps_noise\n",
    "\n",
    "    def get_batch(self):\n",
    "        batch = []\n",
    "        for _ in range(self.batch_size):\n",
    "            point = np.random.randn(2) * self.eps_noise\n",
    "            batch.append(point)\n",
    "        batch = np.array(batch, dtype='float32')\n",
    "        batch = self.float_tensor(batch)\n",
    "        batch = batch[torch.randperm(batch.size(0)), :]\n",
    "        return batch\n"
   ]
  },
  {
   "cell_type": "code",
   "execution_count": 8,
   "metadata": {},
   "outputs": [],
   "source": [
    "class Eight_GMM_Generator(SyntheticDataGenerator):\n",
    "    \"\"\"samples from four 2D gaussians.\"\"\"\n",
    "\n",
    "    def __init__(self,\n",
    "                 batch_size: int=256,\n",
    "                 scale: float=10.,\n",
    "                 eps_noise: float=.5):\n",
    "        self.batch_size = batch_size\n",
    "        scale = scale\n",
    "        self.eps_noise = eps_noise\n",
    "\n",
    "        centers = [\n",
    "            (1,0),\n",
    "            (-1,0),\n",
    "            (0,1),\n",
    "            (0,-1),\n",
    "            (1./np.sqrt(2), 1./np.sqrt(2)),\n",
    "            (1./np.sqrt(2), -1./np.sqrt(2)),\n",
    "            (-1./np.sqrt(2), 1./np.sqrt(2)),\n",
    "            (-1./np.sqrt(2), -1./np.sqrt(2))\n",
    "        ]\n",
    "        \n",
    "        self.centers = [(scale*x,scale*y) for x,y in centers]\n",
    "\n",
    "    def get_batch(self):\n",
    "        batch = []\n",
    "        for i in range(self.batch_size):\n",
    "            \n",
    "            point = np.random.randn(2) * self.eps_noise\n",
    "            center = self.centers[i % 8]\n",
    "            point[0] += center[0]\n",
    "            point[1] += center[1]\n",
    "            batch.append(point)\n",
    "\n",
    "        batch = np.array(batch, dtype='float32')\n",
    "        batch = self.float_tensor(batch)\n",
    "        batch = batch[torch.randperm(batch.size(0)), :]\n",
    "        return batch"
   ]
  },
  {
   "cell_type": "code",
   "execution_count": 9,
   "metadata": {},
   "outputs": [],
   "source": [
    "## Gaussian to Gaussian\n",
    "Id = 2\n",
    "N = 10000\n"
   ]
  },
  {
   "cell_type": "code",
   "execution_count": 10,
   "metadata": {},
   "outputs": [
    {
     "data": {
      "text/plain": [
       "torch.Size([10000, 2])"
      ]
     },
     "execution_count": 10,
     "metadata": {},
     "output_type": "execute_result"
    }
   ],
   "source": [
    "x_data = Eight_GMM_Generator(N)\n",
    "x_batch = next(x_data)\n",
    "x_batch.shape"
   ]
  },
  {
   "cell_type": "code",
   "execution_count": 11,
   "metadata": {},
   "outputs": [
    {
     "data": {
      "text/plain": [
       "torch.Size([10000, 2])"
      ]
     },
     "execution_count": 11,
     "metadata": {},
     "output_type": "execute_result"
    }
   ],
   "source": [
    "y_data = StandardGaussianGenerator(N)\n",
    "y_batch = next(y_data)\n",
    "y_batch.shape"
   ]
  },
  {
   "cell_type": "code",
   "execution_count": 12,
   "metadata": {},
   "outputs": [
    {
     "data": {
      "text/plain": [
       "((10000, 2), (10000, 2))"
      ]
     },
     "execution_count": 12,
     "metadata": {},
     "output_type": "execute_result"
    }
   ],
   "source": [
    "P = x_batch.numpy()\n",
    "Q = y_batch.numpy()\n",
    "\n",
    "Q.shape, P.shape"
   ]
  },
  {
   "cell_type": "code",
   "execution_count": 13,
   "metadata": {},
   "outputs": [
    {
     "data": {
      "text/plain": [
       "(array([-0.00165132, -0.00747791], dtype=float32),\n",
       " array([ 0.00352776, -0.00106544], dtype=float32))"
      ]
     },
     "execution_count": 13,
     "metadata": {},
     "output_type": "execute_result"
    }
   ],
   "source": [
    "mu_q = Q[:,:2].mean(axis=0)\n",
    "mu_p = P[:,:2].mean(axis=0)\n",
    "\n",
    "mu_q, mu_p"
   ]
  },
  {
   "cell_type": "code",
   "execution_count": 15,
   "metadata": {},
   "outputs": [
    {
     "data": {
      "text/plain": [
       "((10000, 2), (10000, 2))"
      ]
     },
     "execution_count": 15,
     "metadata": {},
     "output_type": "execute_result"
    }
   ],
   "source": [
    "Q.shape, P.shape"
   ]
  },
  {
   "cell_type": "code",
   "execution_count": 16,
   "metadata": {},
   "outputs": [
    {
     "data": {
      "text/plain": [
       "(torch.Size([3, 2]), torch.Size([3, 2]))"
      ]
     },
     "execution_count": 16,
     "metadata": {},
     "output_type": "execute_result"
    }
   ],
   "source": [
    "x = torch.FloatTensor(P[:3]).cuda()\n",
    "y = torch.FloatTensor(Q[:3]).cuda()\n",
    "x.shape, y.shape"
   ]
  },
  {
   "cell_type": "code",
   "execution_count": 17,
   "metadata": {},
   "outputs": [],
   "source": [
    "class Ki(nn.Module):\n",
    "    def __init__(self, features = 128):\n",
    "        super(Ki, self).__init__()\n",
    "        \n",
    "        self.W0b0 = nn.Linear(in_features=Id, out_features=features)\n",
    "        \n",
    "        self.W1b1 = nn.Linear(in_features=features, out_features=features)\n",
    "        \n",
    "        self.W2b2 = nn.Linear(in_features=features, out_features=features)\n",
    "        \n",
    "        self.W3b3 = nn.Linear(in_features=features, out_features=Id)\n",
    "        \n",
    "        \n",
    "    def forward(self, x):\n",
    "        x = F.leaky_relu(self.W0b0(x))\n",
    "        x = F.leaky_relu(self.W1b1(x))\n",
    "        x = F.leaky_relu(self.W2b2(x))\n",
    "        op = self.W3b3(x)\n",
    "        \n",
    "        return op\n",
    "        "
   ]
  },
  {
   "cell_type": "code",
   "execution_count": 18,
   "metadata": {},
   "outputs": [
    {
     "name": "stdout",
     "output_type": "stream",
     "text": [
      "----------------------------------------------------------------\n",
      "        Layer (type)               Output Shape         Param #\n",
      "================================================================\n",
      "            Linear-1               [-1, 1, 128]             384\n",
      "            Linear-2               [-1, 1, 128]          16,512\n",
      "            Linear-3               [-1, 1, 128]          16,512\n",
      "            Linear-4                 [-1, 1, 2]             258\n",
      "================================================================\n",
      "Total params: 33,666\n",
      "Trainable params: 33,666\n",
      "Non-trainable params: 0\n",
      "----------------------------------------------------------------\n",
      "Input size (MB): 0.00\n",
      "Forward/backward pass size (MB): 0.00\n",
      "Params size (MB): 0.13\n",
      "Estimated Total Size (MB): 0.13\n",
      "----------------------------------------------------------------\n"
     ]
    }
   ],
   "source": [
    "ki = Ki().cuda()\n",
    "summary(ki,(1,Id))"
   ]
  },
  {
   "cell_type": "code",
   "execution_count": 19,
   "metadata": {},
   "outputs": [],
   "source": [
    "class Psi(nn.Module):\n",
    "    def __init__(self, features = 128):\n",
    "        super(Psi, self).__init__()\n",
    "        \n",
    "        self.W0b0 = nn.Linear(in_features=Id, out_features=features)\n",
    "        \n",
    "        self.W1b1 = nn.Linear(in_features=features, out_features=features)\n",
    "        \n",
    "        self.W2b2 = nn.Linear(in_features=features, out_features=features)\n",
    "        \n",
    "        self.W3b3 = nn.Linear(in_features=features, out_features=1)\n",
    "        \n",
    "        \n",
    "    def forward(self, x):\n",
    "        x = F.leaky_relu(self.W0b0(x))\n",
    "        x = F.leaky_relu(self.W1b1(x))\n",
    "        x = F.leaky_relu(self.W2b2(x))\n",
    "        op = self.W3b3(x)\n",
    "        \n",
    "        return op\n",
    "        "
   ]
  },
  {
   "cell_type": "code",
   "execution_count": 20,
   "metadata": {},
   "outputs": [
    {
     "name": "stdout",
     "output_type": "stream",
     "text": [
      "----------------------------------------------------------------\n",
      "        Layer (type)               Output Shape         Param #\n",
      "================================================================\n",
      "            Linear-1               [-1, 1, 128]             384\n",
      "            Linear-2               [-1, 1, 128]          16,512\n",
      "            Linear-3               [-1, 1, 128]          16,512\n",
      "            Linear-4                 [-1, 1, 1]             129\n",
      "================================================================\n",
      "Total params: 33,537\n",
      "Trainable params: 33,537\n",
      "Non-trainable params: 0\n",
      "----------------------------------------------------------------\n",
      "Input size (MB): 0.00\n",
      "Forward/backward pass size (MB): 0.00\n",
      "Params size (MB): 0.13\n",
      "Estimated Total Size (MB): 0.13\n",
      "----------------------------------------------------------------\n"
     ]
    }
   ],
   "source": [
    "psi = Psi().cuda()\n",
    "summary(psi,(1,Id))"
   ]
  },
  {
   "cell_type": "code",
   "execution_count": 21,
   "metadata": {},
   "outputs": [
    {
     "data": {
      "text/plain": [
       "tensor([0.1378])"
      ]
     },
     "execution_count": 21,
     "metadata": {},
     "output_type": "execute_result"
    }
   ],
   "source": [
    "torch.rand(1)"
   ]
  },
  {
   "cell_type": "code",
   "execution_count": 22,
   "metadata": {},
   "outputs": [],
   "source": [
    "def PushForward(ki,x):\n",
    "    gradPhi = ki(x)\n",
    "    return gradPhi"
   ]
  },
  {
   "cell_type": "code",
   "execution_count": 23,
   "metadata": {},
   "outputs": [
    {
     "data": {
      "text/plain": [
       "tensor(0.8914, device='cuda:0', grad_fn=<MeanBackward0>)"
      ]
     },
     "execution_count": 23,
     "metadata": {},
     "output_type": "execute_result"
    }
   ],
   "source": [
    "def GradientPenalty(psi, ki, x, y):\n",
    "    batch_size = x.shape[0]\n",
    "    ip1 = nn.Parameter(x, requires_grad = True)\n",
    "    ip2 = torch.mean(ki(ip1))\n",
    "    \n",
    "    eta =torch.rand(1).cuda()\n",
    "    ip = nn.Parameter((eta*y+(1-eta)*ip2), requires_grad=True)\n",
    "    op = torch.mean(psi(ip))\n",
    "    \n",
    "    # compute gradient penalty\n",
    "    gp = torch.norm(grad(op, ip, create_graph=True)[0]*batch_size, 'fro', dim=1)\n",
    "    gp = torch.mean((gp-1)**2)\n",
    "    \n",
    "    return gp\n",
    "\n",
    "gp = GradientPenalty(psi, ki, x, y)\n",
    "gp"
   ]
  },
  {
   "cell_type": "code",
   "execution_count": 24,
   "metadata": {},
   "outputs": [
    {
     "data": {
      "text/plain": [
       "tensor(-0.0416, device='cuda:0', grad_fn=<MeanBackward0>)"
      ]
     },
     "execution_count": 24,
     "metadata": {},
     "output_type": "execute_result"
    }
   ],
   "source": [
    "def WassersteinLoss(psi,ki,x,y):\n",
    "    yp = PushForward(ki,x)\n",
    "    loss = (psi(y)- psi(yp)).mean()\n",
    "    return loss\n",
    "\n",
    "loss = WassersteinLoss(psi,ki,x,y)\n",
    "loss"
   ]
  },
  {
   "cell_type": "code",
   "execution_count": 25,
   "metadata": {},
   "outputs": [],
   "source": [
    "T = 10001\n",
    "M = 128\n",
    "K_ki = 16\n",
    "lam_gp =1.\n",
    "\n",
    "parallel = True"
   ]
  },
  {
   "cell_type": "code",
   "execution_count": 26,
   "metadata": {},
   "outputs": [
    {
     "data": {
      "text/plain": [
       "DataParallel(\n",
       "  (module): Ki(\n",
       "    (W0b0): Linear(in_features=2, out_features=128, bias=True)\n",
       "    (W1b1): Linear(in_features=128, out_features=128, bias=True)\n",
       "    (W2b2): Linear(in_features=128, out_features=128, bias=True)\n",
       "    (W3b3): Linear(in_features=128, out_features=2, bias=True)\n",
       "  )\n",
       ")"
      ]
     },
     "execution_count": 26,
     "metadata": {},
     "output_type": "execute_result"
    }
   ],
   "source": [
    "psi = Psi()\n",
    "ki = Ki()\n",
    "\n",
    "if parallel:\n",
    "    psi = nn.DataParallel(psi, [0,1])\n",
    "    ki = nn.DataParallel(ki, [0,1])\n",
    "\n",
    "psi.cuda()\n",
    "ki.cuda()\n"
   ]
  },
  {
   "cell_type": "code",
   "execution_count": 27,
   "metadata": {},
   "outputs": [],
   "source": [
    "Ki_opt = optim.Adam(ki.parameters(), betas=(0.5,0.99), lr = 1e-3)\n",
    "Psi_opt = optim.Adam(psi.parameters(), betas=(0.5,0.99), lr = 1e-3)"
   ]
  },
  {
   "cell_type": "code",
   "execution_count": 28,
   "metadata": {
    "scrolled": true
   },
   "outputs": [
    {
     "name": "stderr",
     "output_type": "stream",
     "text": [
      "  0%|          | 1/10001 [00:06<17:35:15,  6.33s/it]"
     ]
    },
    {
     "name": "stdout",
     "output_type": "stream",
     "text": [
      "Epoch:  0 | 10001 \t psi loss:  0.785 \t Gp loss:  0.93 \t ki loss:  0.4\n"
     ]
    },
    {
     "name": "stderr",
     "output_type": "stream",
     "text": [
      "  1%|          | 101/10001 [00:31<39:09,  4.21it/s] "
     ]
    },
    {
     "name": "stdout",
     "output_type": "stream",
     "text": [
      "Epoch:  100 | 10001 \t psi loss:  1.129 \t Gp loss:  0.93 \t ki loss:  -0.22\n"
     ]
    },
    {
     "name": "stderr",
     "output_type": "stream",
     "text": [
      "  2%|▏         | 202/10001 [00:47<25:27,  6.42it/s]"
     ]
    },
    {
     "name": "stdout",
     "output_type": "stream",
     "text": [
      "Epoch:  200 | 10001 \t psi loss:  1.632 \t Gp loss:  0.8 \t ki loss:  -0.77\n"
     ]
    },
    {
     "name": "stderr",
     "output_type": "stream",
     "text": [
      "  3%|▎         | 301/10001 [01:12<41:02,  3.94it/s]"
     ]
    },
    {
     "name": "stdout",
     "output_type": "stream",
     "text": [
      "Epoch:  300 | 10001 \t psi loss:  1.527 \t Gp loss:  0.88 \t ki loss:  -0.61\n"
     ]
    },
    {
     "name": "stderr",
     "output_type": "stream",
     "text": [
      "  4%|▍         | 401/10001 [01:35<37:34,  4.26it/s]"
     ]
    },
    {
     "name": "stdout",
     "output_type": "stream",
     "text": [
      "Epoch:  400 | 10001 \t psi loss:  1.527 \t Gp loss:  0.82 \t ki loss:  -0.57\n"
     ]
    },
    {
     "name": "stderr",
     "output_type": "stream",
     "text": [
      "  5%|▌         | 501/10001 [01:58<36:10,  4.38it/s]"
     ]
    },
    {
     "name": "stdout",
     "output_type": "stream",
     "text": [
      "Epoch:  500 | 10001 \t psi loss:  1.454 \t Gp loss:  0.77 \t ki loss:  -0.33\n"
     ]
    },
    {
     "name": "stderr",
     "output_type": "stream",
     "text": [
      "  6%|▌         | 601/10001 [02:20<36:37,  4.28it/s]"
     ]
    },
    {
     "name": "stdout",
     "output_type": "stream",
     "text": [
      "Epoch:  600 | 10001 \t psi loss:  0.646 \t Gp loss:  0.22 \t ki loss:  -0.28\n"
     ]
    },
    {
     "name": "stderr",
     "output_type": "stream",
     "text": [
      "  7%|▋         | 702/10001 [02:37<25:27,  6.09it/s]"
     ]
    },
    {
     "name": "stdout",
     "output_type": "stream",
     "text": [
      "Epoch:  700 | 10001 \t psi loss:  -0.022 \t Gp loss:  0.78 \t ki loss:  1.23\n"
     ]
    },
    {
     "name": "stderr",
     "output_type": "stream",
     "text": [
      "  8%|▊         | 802/10001 [02:54<24:54,  6.16it/s]"
     ]
    },
    {
     "name": "stdout",
     "output_type": "stream",
     "text": [
      "Epoch:  800 | 10001 \t psi loss:  -0.531 \t Gp loss:  0.82 \t ki loss:  1.1\n"
     ]
    },
    {
     "name": "stderr",
     "output_type": "stream",
     "text": [
      "  9%|▉         | 902/10001 [03:10<23:32,  6.44it/s]"
     ]
    },
    {
     "name": "stdout",
     "output_type": "stream",
     "text": [
      "Epoch:  900 | 10001 \t psi loss:  0.835 \t Gp loss:  0.33 \t ki loss:  -0.29\n"
     ]
    },
    {
     "name": "stderr",
     "output_type": "stream",
     "text": [
      " 10%|█         | 1001/10001 [03:29<39:11,  3.83it/s]"
     ]
    },
    {
     "name": "stdout",
     "output_type": "stream",
     "text": [
      "Epoch:  1000 | 10001 \t psi loss:  1.945 \t Gp loss:  0.5 \t ki loss:  -1.51\n"
     ]
    },
    {
     "name": "stderr",
     "output_type": "stream",
     "text": [
      " 11%|█         | 1101/10001 [03:55<39:35,  3.75it/s]"
     ]
    },
    {
     "name": "stdout",
     "output_type": "stream",
     "text": [
      "Epoch:  1100 | 10001 \t psi loss:  2.933 \t Gp loss:  0.25 \t ki loss:  -2.36\n"
     ]
    },
    {
     "name": "stderr",
     "output_type": "stream",
     "text": [
      " 12%|█▏        | 1201/10001 [04:20<36:11,  4.05it/s]"
     ]
    },
    {
     "name": "stdout",
     "output_type": "stream",
     "text": [
      "Epoch:  1200 | 10001 \t psi loss:  0.431 \t Gp loss:  0.2 \t ki loss:  0.59\n"
     ]
    },
    {
     "name": "stderr",
     "output_type": "stream",
     "text": [
      " 13%|█▎        | 1301/10001 [04:45<37:40,  3.85it/s]"
     ]
    },
    {
     "name": "stdout",
     "output_type": "stream",
     "text": [
      "Epoch:  1300 | 10001 \t psi loss:  3.903 \t Gp loss:  0.45 \t ki loss:  -2.58\n"
     ]
    },
    {
     "name": "stderr",
     "output_type": "stream",
     "text": [
      " 14%|█▍        | 1401/10001 [05:11<35:11,  4.07it/s]"
     ]
    },
    {
     "name": "stdout",
     "output_type": "stream",
     "text": [
      "Epoch:  1400 | 10001 \t psi loss:  1.74 \t Gp loss:  0.29 \t ki loss:  -0.33\n"
     ]
    },
    {
     "name": "stderr",
     "output_type": "stream",
     "text": [
      " 15%|█▌        | 1502/10001 [05:33<23:42,  5.97it/s]"
     ]
    },
    {
     "name": "stdout",
     "output_type": "stream",
     "text": [
      "Epoch:  1500 | 10001 \t psi loss:  0.224 \t Gp loss:  0.05 \t ki loss:  0.2\n"
     ]
    },
    {
     "name": "stderr",
     "output_type": "stream",
     "text": [
      " 16%|█▌        | 1601/10001 [05:57<34:47,  4.02it/s]"
     ]
    },
    {
     "name": "stdout",
     "output_type": "stream",
     "text": [
      "Epoch:  1600 | 10001 \t psi loss:  1.422 \t Gp loss:  0.05 \t ki loss:  -0.8\n"
     ]
    },
    {
     "name": "stderr",
     "output_type": "stream",
     "text": [
      " 17%|█▋        | 1701/10001 [06:22<35:18,  3.92it/s]"
     ]
    },
    {
     "name": "stdout",
     "output_type": "stream",
     "text": [
      "Epoch:  1700 | 10001 \t psi loss:  1.224 \t Gp loss:  0.15 \t ki loss:  -0.83\n"
     ]
    },
    {
     "name": "stderr",
     "output_type": "stream",
     "text": [
      " 18%|█▊        | 1801/10001 [06:47<33:43,  4.05it/s]"
     ]
    },
    {
     "name": "stdout",
     "output_type": "stream",
     "text": [
      "Epoch:  1800 | 10001 \t psi loss:  1.348 \t Gp loss:  0.36 \t ki loss:  -0.2\n"
     ]
    },
    {
     "name": "stderr",
     "output_type": "stream",
     "text": [
      " 19%|█▉        | 1901/10001 [07:12<32:36,  4.14it/s]"
     ]
    },
    {
     "name": "stdout",
     "output_type": "stream",
     "text": [
      "Epoch:  1900 | 10001 \t psi loss:  1.631 \t Gp loss:  0.11 \t ki loss:  -0.92\n"
     ]
    },
    {
     "name": "stderr",
     "output_type": "stream",
     "text": [
      " 20%|██        | 2001/10001 [07:38<34:44,  3.84it/s]"
     ]
    },
    {
     "name": "stdout",
     "output_type": "stream",
     "text": [
      "Epoch:  2000 | 10001 \t psi loss:  0.351 \t Gp loss:  0.08 \t ki loss:  0.32\n"
     ]
    },
    {
     "name": "stderr",
     "output_type": "stream",
     "text": [
      " 21%|██        | 2101/10001 [08:03<32:22,  4.07it/s]"
     ]
    },
    {
     "name": "stdout",
     "output_type": "stream",
     "text": [
      "Epoch:  2100 | 10001 \t psi loss:  -3.601 \t Gp loss:  0.02 \t ki loss:  5.13\n"
     ]
    },
    {
     "name": "stderr",
     "output_type": "stream",
     "text": [
      " 22%|██▏       | 2201/10001 [08:29<32:12,  4.04it/s]"
     ]
    },
    {
     "name": "stdout",
     "output_type": "stream",
     "text": [
      "Epoch:  2200 | 10001 \t psi loss:  1.522 \t Gp loss:  0.27 \t ki loss:  -0.98\n"
     ]
    },
    {
     "name": "stderr",
     "output_type": "stream",
     "text": [
      " 23%|██▎       | 2301/10001 [08:54<33:40,  3.81it/s]"
     ]
    },
    {
     "name": "stdout",
     "output_type": "stream",
     "text": [
      "Epoch:  2300 | 10001 \t psi loss:  0.115 \t Gp loss:  0.2 \t ki loss:  0.59\n"
     ]
    },
    {
     "name": "stderr",
     "output_type": "stream",
     "text": [
      " 24%|██▍       | 2402/10001 [09:18<22:14,  5.70it/s]"
     ]
    },
    {
     "name": "stdout",
     "output_type": "stream",
     "text": [
      "Epoch:  2400 | 10001 \t psi loss:  1.235 \t Gp loss:  0.39 \t ki loss:  -0.59\n"
     ]
    },
    {
     "name": "stderr",
     "output_type": "stream",
     "text": [
      " 25%|██▌       | 2501/10001 [09:43<33:20,  3.75it/s]"
     ]
    },
    {
     "name": "stdout",
     "output_type": "stream",
     "text": [
      "Epoch:  2500 | 10001 \t psi loss:  2.734 \t Gp loss:  0.37 \t ki loss:  -2.04\n"
     ]
    },
    {
     "name": "stderr",
     "output_type": "stream",
     "text": [
      " 26%|██▌       | 2601/10001 [10:09<31:53,  3.87it/s]"
     ]
    },
    {
     "name": "stdout",
     "output_type": "stream",
     "text": [
      "Epoch:  2600 | 10001 \t psi loss:  0.142 \t Gp loss:  0.08 \t ki loss:  0.11\n"
     ]
    },
    {
     "name": "stderr",
     "output_type": "stream",
     "text": [
      " 27%|██▋       | 2701/10001 [10:33<31:54,  3.81it/s]"
     ]
    },
    {
     "name": "stdout",
     "output_type": "stream",
     "text": [
      "Epoch:  2700 | 10001 \t psi loss:  -0.142 \t Gp loss:  0.08 \t ki loss:  0.34\n"
     ]
    },
    {
     "name": "stderr",
     "output_type": "stream",
     "text": [
      " 28%|██▊       | 2802/10001 [10:52<19:40,  6.10it/s]"
     ]
    },
    {
     "name": "stdout",
     "output_type": "stream",
     "text": [
      "Epoch:  2800 | 10001 \t psi loss:  -0.282 \t Gp loss:  0.04 \t ki loss:  0.4\n"
     ]
    },
    {
     "name": "stderr",
     "output_type": "stream",
     "text": [
      " 29%|██▉       | 2901/10001 [11:13<31:20,  3.78it/s]"
     ]
    },
    {
     "name": "stdout",
     "output_type": "stream",
     "text": [
      "Epoch:  2900 | 10001 \t psi loss:  -0.107 \t Gp loss:  0.39 \t ki loss:  -1.11\n"
     ]
    },
    {
     "name": "stderr",
     "output_type": "stream",
     "text": [
      " 30%|███       | 3001/10001 [11:39<29:23,  3.97it/s]"
     ]
    },
    {
     "name": "stdout",
     "output_type": "stream",
     "text": [
      "Epoch:  3000 | 10001 \t psi loss:  4.275 \t Gp loss:  0.24 \t ki loss:  -3.31\n"
     ]
    },
    {
     "name": "stderr",
     "output_type": "stream",
     "text": [
      " 31%|███       | 3101/10001 [12:04<27:44,  4.15it/s]"
     ]
    },
    {
     "name": "stdout",
     "output_type": "stream",
     "text": [
      "Epoch:  3100 | 10001 \t psi loss:  -6.296 \t Gp loss:  0.63 \t ki loss:  8.36\n"
     ]
    },
    {
     "name": "stderr",
     "output_type": "stream",
     "text": [
      " 32%|███▏      | 3201/10001 [12:29<29:22,  3.86it/s]"
     ]
    },
    {
     "name": "stdout",
     "output_type": "stream",
     "text": [
      "Epoch:  3200 | 10001 \t psi loss:  -8.222 \t Gp loss:  0.28 \t ki loss:  5.57\n"
     ]
    },
    {
     "name": "stderr",
     "output_type": "stream",
     "text": [
      " 33%|███▎      | 3301/10001 [12:55<28:04,  3.98it/s]"
     ]
    },
    {
     "name": "stdout",
     "output_type": "stream",
     "text": [
      "Epoch:  3300 | 10001 \t psi loss:  0.111 \t Gp loss:  0.22 \t ki loss:  -0.23\n"
     ]
    },
    {
     "name": "stderr",
     "output_type": "stream",
     "text": [
      " 34%|███▍      | 3401/10001 [13:21<27:35,  3.99it/s]"
     ]
    },
    {
     "name": "stdout",
     "output_type": "stream",
     "text": [
      "Epoch:  3400 | 10001 \t psi loss:  -0.772 \t Gp loss:  0.07 \t ki loss:  0.9\n"
     ]
    },
    {
     "name": "stderr",
     "output_type": "stream",
     "text": [
      " 35%|███▌      | 3501/10001 [13:44<27:30,  3.94it/s]"
     ]
    },
    {
     "name": "stdout",
     "output_type": "stream",
     "text": [
      "Epoch:  3500 | 10001 \t psi loss:  -0.968 \t Gp loss:  0.12 \t ki loss:  1.56\n"
     ]
    },
    {
     "name": "stderr",
     "output_type": "stream",
     "text": [
      " 36%|███▌      | 3601/10001 [14:09<26:59,  3.95it/s]"
     ]
    },
    {
     "name": "stdout",
     "output_type": "stream",
     "text": [
      "Epoch:  3600 | 10001 \t psi loss:  0.179 \t Gp loss:  0.81 \t ki loss:  -0.14\n"
     ]
    },
    {
     "name": "stderr",
     "output_type": "stream",
     "text": [
      " 37%|███▋      | 3701/10001 [14:34<26:54,  3.90it/s]"
     ]
    },
    {
     "name": "stdout",
     "output_type": "stream",
     "text": [
      "Epoch:  3700 | 10001 \t psi loss:  6.576 \t Gp loss:  0.35 \t ki loss:  -5.67\n"
     ]
    },
    {
     "name": "stderr",
     "output_type": "stream",
     "text": [
      " 38%|███▊      | 3801/10001 [15:00<24:51,  4.16it/s]"
     ]
    },
    {
     "name": "stdout",
     "output_type": "stream",
     "text": [
      "Epoch:  3800 | 10001 \t psi loss:  5.403 \t Gp loss:  0.19 \t ki loss:  -3.32\n"
     ]
    },
    {
     "name": "stderr",
     "output_type": "stream",
     "text": [
      " 39%|███▉      | 3902/10001 [15:25<20:19,  5.00it/s]"
     ]
    },
    {
     "name": "stdout",
     "output_type": "stream",
     "text": [
      "Epoch:  3900 | 10001 \t psi loss:  -5.875 \t Gp loss:  0.13 \t ki loss:  7.18\n"
     ]
    },
    {
     "name": "stderr",
     "output_type": "stream",
     "text": [
      " 40%|████      | 4001/10001 [15:48<24:39,  4.05it/s]"
     ]
    },
    {
     "name": "stdout",
     "output_type": "stream",
     "text": [
      "Epoch:  4000 | 10001 \t psi loss:  9.967 \t Gp loss:  0.89 \t ki loss:  -9.08\n"
     ]
    },
    {
     "name": "stderr",
     "output_type": "stream",
     "text": [
      " 41%|████      | 4101/10001 [16:13<24:16,  4.05it/s]"
     ]
    },
    {
     "name": "stdout",
     "output_type": "stream",
     "text": [
      "Epoch:  4100 | 10001 \t psi loss:  0.355 \t Gp loss:  0.19 \t ki loss:  1.43\n"
     ]
    },
    {
     "name": "stderr",
     "output_type": "stream",
     "text": [
      " 42%|████▏     | 4201/10001 [16:39<24:18,  3.98it/s]"
     ]
    },
    {
     "name": "stdout",
     "output_type": "stream",
     "text": [
      "Epoch:  4200 | 10001 \t psi loss:  24.147 \t Gp loss:  0.94 \t ki loss:  -28.91\n"
     ]
    },
    {
     "name": "stderr",
     "output_type": "stream",
     "text": [
      " 43%|████▎     | 4301/10001 [17:04<24:23,  3.89it/s]"
     ]
    },
    {
     "name": "stdout",
     "output_type": "stream",
     "text": [
      "Epoch:  4300 | 10001 \t psi loss:  0.199 \t Gp loss:  0.16 \t ki loss:  0.2\n"
     ]
    },
    {
     "name": "stderr",
     "output_type": "stream",
     "text": [
      " 44%|████▍     | 4401/10001 [17:29<24:56,  3.74it/s]"
     ]
    },
    {
     "name": "stdout",
     "output_type": "stream",
     "text": [
      "Epoch:  4400 | 10001 \t psi loss:  -0.582 \t Gp loss:  0.09 \t ki loss:  0.92\n"
     ]
    },
    {
     "name": "stderr",
     "output_type": "stream",
     "text": [
      " 45%|████▌     | 4501/10001 [17:52<22:33,  4.06it/s]"
     ]
    },
    {
     "name": "stdout",
     "output_type": "stream",
     "text": [
      "Epoch:  4500 | 10001 \t psi loss:  -4.95 \t Gp loss:  0.18 \t ki loss:  6.37\n"
     ]
    },
    {
     "name": "stderr",
     "output_type": "stream",
     "text": [
      " 46%|████▌     | 4601/10001 [18:17<21:54,  4.11it/s]"
     ]
    },
    {
     "name": "stdout",
     "output_type": "stream",
     "text": [
      "Epoch:  4600 | 10001 \t psi loss:  -6.014 \t Gp loss:  0.34 \t ki loss:  7.64\n"
     ]
    },
    {
     "name": "stderr",
     "output_type": "stream",
     "text": [
      " 47%|████▋     | 4701/10001 [18:42<22:02,  4.01it/s]"
     ]
    },
    {
     "name": "stdout",
     "output_type": "stream",
     "text": [
      "Epoch:  4700 | 10001 \t psi loss:  -0.563 \t Gp loss:  0.31 \t ki loss:  1.46\n"
     ]
    },
    {
     "name": "stderr",
     "output_type": "stream",
     "text": [
      " 48%|████▊     | 4801/10001 [19:07<21:42,  3.99it/s]"
     ]
    },
    {
     "name": "stdout",
     "output_type": "stream",
     "text": [
      "Epoch:  4800 | 10001 \t psi loss:  2.752 \t Gp loss:  0.18 \t ki loss:  -1.29\n"
     ]
    },
    {
     "name": "stderr",
     "output_type": "stream",
     "text": [
      " 49%|████▉     | 4901/10001 [19:32<21:25,  3.97it/s]"
     ]
    },
    {
     "name": "stdout",
     "output_type": "stream",
     "text": [
      "Epoch:  4900 | 10001 \t psi loss:  -4.78 \t Gp loss:  0.35 \t ki loss:  5.82\n"
     ]
    },
    {
     "name": "stderr",
     "output_type": "stream",
     "text": [
      " 50%|█████     | 5001/10001 [19:57<20:51,  3.99it/s]"
     ]
    },
    {
     "name": "stdout",
     "output_type": "stream",
     "text": [
      "Epoch:  5000 | 10001 \t psi loss:  -6.2 \t Gp loss:  0.15 \t ki loss:  0.83\n"
     ]
    },
    {
     "name": "stderr",
     "output_type": "stream",
     "text": [
      " 51%|█████     | 5101/10001 [20:21<20:17,  4.02it/s]"
     ]
    },
    {
     "name": "stdout",
     "output_type": "stream",
     "text": [
      "Epoch:  5100 | 10001 \t psi loss:  -9.069 \t Gp loss:  0.8 \t ki loss:  9.93\n"
     ]
    },
    {
     "name": "stderr",
     "output_type": "stream",
     "text": [
      " 52%|█████▏    | 5201/10001 [20:46<20:18,  3.94it/s]"
     ]
    },
    {
     "name": "stdout",
     "output_type": "stream",
     "text": [
      "Epoch:  5200 | 10001 \t psi loss:  0.415 \t Gp loss:  0.11 \t ki loss:  0.47\n"
     ]
    },
    {
     "name": "stderr",
     "output_type": "stream",
     "text": [
      " 53%|█████▎    | 5302/10001 [21:04<12:48,  6.11it/s]"
     ]
    },
    {
     "name": "stdout",
     "output_type": "stream",
     "text": [
      "Epoch:  5300 | 10001 \t psi loss:  -2.241 \t Gp loss:  0.29 \t ki loss:  2.96\n"
     ]
    },
    {
     "name": "stderr",
     "output_type": "stream",
     "text": [
      " 54%|█████▍    | 5401/10001 [21:26<19:45,  3.88it/s]"
     ]
    },
    {
     "name": "stdout",
     "output_type": "stream",
     "text": [
      "Epoch:  5400 | 10001 \t psi loss:  -1.014 \t Gp loss:  0.02 \t ki loss:  1.77\n"
     ]
    },
    {
     "name": "stderr",
     "output_type": "stream",
     "text": [
      " 55%|█████▌    | 5501/10001 [21:52<19:15,  3.89it/s]"
     ]
    },
    {
     "name": "stdout",
     "output_type": "stream",
     "text": [
      "Epoch:  5500 | 10001 \t psi loss:  1.569 \t Gp loss:  0.34 \t ki loss:  -1.04\n"
     ]
    },
    {
     "name": "stderr",
     "output_type": "stream",
     "text": [
      " 56%|█████▌    | 5601/10001 [22:15<18:15,  4.02it/s]"
     ]
    },
    {
     "name": "stdout",
     "output_type": "stream",
     "text": [
      "Epoch:  5600 | 10001 \t psi loss:  0.571 \t Gp loss:  0.19 \t ki loss:  0.38\n"
     ]
    },
    {
     "name": "stderr",
     "output_type": "stream",
     "text": [
      " 57%|█████▋    | 5701/10001 [22:40<18:08,  3.95it/s]"
     ]
    },
    {
     "name": "stdout",
     "output_type": "stream",
     "text": [
      "Epoch:  5700 | 10001 \t psi loss:  -4.374 \t Gp loss:  0.27 \t ki loss:  5.77\n"
     ]
    },
    {
     "name": "stderr",
     "output_type": "stream",
     "text": [
      " 58%|█████▊    | 5801/10001 [23:06<17:34,  3.98it/s]"
     ]
    },
    {
     "name": "stdout",
     "output_type": "stream",
     "text": [
      "Epoch:  5800 | 10001 \t psi loss:  1.504 \t Gp loss:  0.17 \t ki loss:  -0.74\n"
     ]
    },
    {
     "name": "stderr",
     "output_type": "stream",
     "text": [
      " 59%|█████▉    | 5901/10001 [23:31<17:35,  3.89it/s]"
     ]
    },
    {
     "name": "stdout",
     "output_type": "stream",
     "text": [
      "Epoch:  5900 | 10001 \t psi loss:  3.215 \t Gp loss:  0.2 \t ki loss:  -2.45\n"
     ]
    },
    {
     "name": "stderr",
     "output_type": "stream",
     "text": [
      " 60%|██████    | 6001/10001 [23:56<17:16,  3.86it/s]"
     ]
    },
    {
     "name": "stdout",
     "output_type": "stream",
     "text": [
      "Epoch:  6000 | 10001 \t psi loss:  5.044 \t Gp loss:  0.37 \t ki loss:  -4.2\n"
     ]
    },
    {
     "name": "stderr",
     "output_type": "stream",
     "text": [
      " 61%|██████    | 6101/10001 [24:22<16:24,  3.96it/s]"
     ]
    },
    {
     "name": "stdout",
     "output_type": "stream",
     "text": [
      "Epoch:  6100 | 10001 \t psi loss:  -1.707 \t Gp loss:  0.18 \t ki loss:  2.91\n"
     ]
    },
    {
     "name": "stderr",
     "output_type": "stream",
     "text": [
      " 62%|██████▏   | 6201/10001 [24:48<16:08,  3.92it/s]"
     ]
    },
    {
     "name": "stdout",
     "output_type": "stream",
     "text": [
      "Epoch:  6200 | 10001 \t psi loss:  6.602 \t Gp loss:  0.69 \t ki loss:  -5.05\n"
     ]
    },
    {
     "name": "stderr",
     "output_type": "stream",
     "text": [
      " 63%|██████▎   | 6301/10001 [25:13<15:33,  3.96it/s]"
     ]
    },
    {
     "name": "stdout",
     "output_type": "stream",
     "text": [
      "Epoch:  6300 | 10001 \t psi loss:  -1.624 \t Gp loss:  0.06 \t ki loss:  0.94\n"
     ]
    },
    {
     "name": "stderr",
     "output_type": "stream",
     "text": [
      " 64%|██████▍   | 6401/10001 [25:36<14:41,  4.09it/s]"
     ]
    },
    {
     "name": "stdout",
     "output_type": "stream",
     "text": [
      "Epoch:  6400 | 10001 \t psi loss:  3.777 \t Gp loss:  0.33 \t ki loss:  -7.1\n"
     ]
    },
    {
     "name": "stderr",
     "output_type": "stream",
     "text": [
      " 65%|██████▌   | 6501/10001 [26:00<11:03,  5.27it/s]"
     ]
    },
    {
     "name": "stdout",
     "output_type": "stream",
     "text": [
      "Epoch:  6500 | 10001 \t psi loss:  -0.274 \t Gp loss:  0.14 \t ki loss:  1.09\n"
     ]
    },
    {
     "name": "stderr",
     "output_type": "stream",
     "text": [
      " 66%|██████▌   | 6601/10001 [26:26<14:21,  3.94it/s]"
     ]
    },
    {
     "name": "stdout",
     "output_type": "stream",
     "text": [
      "Epoch:  6600 | 10001 \t psi loss:  -3.658 \t Gp loss:  0.17 \t ki loss:  3.07\n"
     ]
    },
    {
     "name": "stderr",
     "output_type": "stream",
     "text": [
      " 67%|██████▋   | 6701/10001 [26:51<13:38,  4.03it/s]"
     ]
    },
    {
     "name": "stdout",
     "output_type": "stream",
     "text": [
      "Epoch:  6700 | 10001 \t psi loss:  0.793 \t Gp loss:  0.57 \t ki loss:  0.1\n"
     ]
    },
    {
     "name": "stderr",
     "output_type": "stream",
     "text": [
      " 68%|██████▊   | 6801/10001 [27:17<13:16,  4.02it/s]"
     ]
    },
    {
     "name": "stdout",
     "output_type": "stream",
     "text": [
      "Epoch:  6800 | 10001 \t psi loss:  1.942 \t Gp loss:  0.25 \t ki loss:  -1.27\n"
     ]
    },
    {
     "name": "stderr",
     "output_type": "stream",
     "text": [
      " 69%|██████▉   | 6901/10001 [27:42<12:59,  3.98it/s]"
     ]
    },
    {
     "name": "stdout",
     "output_type": "stream",
     "text": [
      "Epoch:  6900 | 10001 \t psi loss:  -1.984 \t Gp loss:  0.09 \t ki loss:  2.82\n"
     ]
    },
    {
     "name": "stderr",
     "output_type": "stream",
     "text": [
      " 70%|███████   | 7001/10001 [28:07<12:42,  3.94it/s]"
     ]
    },
    {
     "name": "stdout",
     "output_type": "stream",
     "text": [
      "Epoch:  7000 | 10001 \t psi loss:  1.029 \t Gp loss:  0.0 \t ki loss:  -0.94\n"
     ]
    },
    {
     "name": "stderr",
     "output_type": "stream",
     "text": [
      " 71%|███████   | 7101/10001 [28:33<12:10,  3.97it/s]"
     ]
    },
    {
     "name": "stdout",
     "output_type": "stream",
     "text": [
      "Epoch:  7100 | 10001 \t psi loss:  0.579 \t Gp loss:  0.33 \t ki loss:  -0.16\n"
     ]
    },
    {
     "name": "stderr",
     "output_type": "stream",
     "text": [
      " 72%|███████▏  | 7201/10001 [28:58<12:10,  3.83it/s]"
     ]
    },
    {
     "name": "stdout",
     "output_type": "stream",
     "text": [
      "Epoch:  7200 | 10001 \t psi loss:  0.512 \t Gp loss:  0.12 \t ki loss:  -0.24\n"
     ]
    },
    {
     "name": "stderr",
     "output_type": "stream",
     "text": [
      " 73%|███████▎  | 7301/10001 [29:24<11:40,  3.85it/s]"
     ]
    },
    {
     "name": "stdout",
     "output_type": "stream",
     "text": [
      "Epoch:  7300 | 10001 \t psi loss:  1.316 \t Gp loss:  0.38 \t ki loss:  -0.98\n"
     ]
    },
    {
     "name": "stderr",
     "output_type": "stream",
     "text": [
      " 74%|███████▍  | 7401/10001 [29:49<10:27,  4.15it/s]"
     ]
    },
    {
     "name": "stdout",
     "output_type": "stream",
     "text": [
      "Epoch:  7400 | 10001 \t psi loss:  -0.097 \t Gp loss:  0.06 \t ki loss:  0.4\n"
     ]
    },
    {
     "name": "stderr",
     "output_type": "stream",
     "text": [
      " 75%|███████▌  | 7502/10001 [30:12<07:12,  5.78it/s]"
     ]
    },
    {
     "name": "stdout",
     "output_type": "stream",
     "text": [
      "Epoch:  7500 | 10001 \t psi loss:  0.406 \t Gp loss:  0.39 \t ki loss:  0.13\n"
     ]
    },
    {
     "name": "stderr",
     "output_type": "stream",
     "text": [
      " 76%|███████▌  | 7601/10001 [30:37<10:10,  3.93it/s]"
     ]
    },
    {
     "name": "stdout",
     "output_type": "stream",
     "text": [
      "Epoch:  7600 | 10001 \t psi loss:  0.645 \t Gp loss:  0.05 \t ki loss:  -0.08\n"
     ]
    },
    {
     "name": "stderr",
     "output_type": "stream",
     "text": [
      " 77%|███████▋  | 7702/10001 [31:02<07:45,  4.94it/s]"
     ]
    },
    {
     "name": "stdout",
     "output_type": "stream",
     "text": [
      "Epoch:  7700 | 10001 \t psi loss:  -1.777 \t Gp loss:  0.38 \t ki loss:  2.33\n"
     ]
    },
    {
     "name": "stderr",
     "output_type": "stream",
     "text": [
      " 78%|███████▊  | 7802/10001 [31:18<05:46,  6.35it/s]"
     ]
    },
    {
     "name": "stdout",
     "output_type": "stream",
     "text": [
      "Epoch:  7800 | 10001 \t psi loss:  -8.916 \t Gp loss:  1.5 \t ki loss:  12.82\n"
     ]
    },
    {
     "name": "stderr",
     "output_type": "stream",
     "text": [
      " 79%|███████▉  | 7901/10001 [31:42<08:57,  3.90it/s]"
     ]
    },
    {
     "name": "stdout",
     "output_type": "stream",
     "text": [
      "Epoch:  7900 | 10001 \t psi loss:  -2.44 \t Gp loss:  0.26 \t ki loss:  3.64\n"
     ]
    },
    {
     "name": "stderr",
     "output_type": "stream",
     "text": [
      " 80%|████████  | 8001/10001 [32:08<08:02,  4.15it/s]"
     ]
    },
    {
     "name": "stdout",
     "output_type": "stream",
     "text": [
      "Epoch:  8000 | 10001 \t psi loss:  2.113 \t Gp loss:  0.35 \t ki loss:  -0.8\n"
     ]
    },
    {
     "name": "stderr",
     "output_type": "stream",
     "text": [
      " 81%|████████  | 8101/10001 [32:33<08:03,  3.93it/s]"
     ]
    },
    {
     "name": "stdout",
     "output_type": "stream",
     "text": [
      "Epoch:  8100 | 10001 \t psi loss:  7.772 \t Gp loss:  0.98 \t ki loss:  -6.52\n"
     ]
    },
    {
     "name": "stderr",
     "output_type": "stream",
     "text": [
      " 82%|████████▏ | 8201/10001 [32:59<07:34,  3.96it/s]"
     ]
    },
    {
     "name": "stdout",
     "output_type": "stream",
     "text": [
      "Epoch:  8200 | 10001 \t psi loss:  -1.096 \t Gp loss:  0.06 \t ki loss:  1.73\n"
     ]
    },
    {
     "name": "stderr",
     "output_type": "stream",
     "text": [
      " 83%|████████▎ | 8301/10001 [33:24<06:58,  4.06it/s]"
     ]
    },
    {
     "name": "stdout",
     "output_type": "stream",
     "text": [
      "Epoch:  8300 | 10001 \t psi loss:  -1.922 \t Gp loss:  0.1 \t ki loss:  2.78\n"
     ]
    },
    {
     "name": "stderr",
     "output_type": "stream",
     "text": [
      " 84%|████████▍ | 8401/10001 [33:48<06:29,  4.11it/s]"
     ]
    },
    {
     "name": "stdout",
     "output_type": "stream",
     "text": [
      "Epoch:  8400 | 10001 \t psi loss:  7.973 \t Gp loss:  0.36 \t ki loss:  -6.04\n"
     ]
    },
    {
     "name": "stderr",
     "output_type": "stream",
     "text": [
      " 85%|████████▌ | 8501/10001 [34:11<06:09,  4.06it/s]"
     ]
    },
    {
     "name": "stdout",
     "output_type": "stream",
     "text": [
      "Epoch:  8500 | 10001 \t psi loss:  3.41 \t Gp loss:  0.1 \t ki loss:  -2.27\n"
     ]
    },
    {
     "name": "stderr",
     "output_type": "stream",
     "text": [
      " 86%|████████▌ | 8601/10001 [34:35<05:35,  4.17it/s]"
     ]
    },
    {
     "name": "stdout",
     "output_type": "stream",
     "text": [
      "Epoch:  8600 | 10001 \t psi loss:  -0.44 \t Gp loss:  0.13 \t ki loss:  0.65\n"
     ]
    },
    {
     "name": "stderr",
     "output_type": "stream",
     "text": [
      " 87%|████████▋ | 8701/10001 [34:59<05:17,  4.10it/s]"
     ]
    },
    {
     "name": "stdout",
     "output_type": "stream",
     "text": [
      "Epoch:  8700 | 10001 \t psi loss:  1.512 \t Gp loss:  0.0 \t ki loss:  -0.44\n"
     ]
    },
    {
     "name": "stderr",
     "output_type": "stream",
     "text": [
      " 88%|████████▊ | 8801/10001 [35:22<04:49,  4.14it/s]"
     ]
    },
    {
     "name": "stdout",
     "output_type": "stream",
     "text": [
      "Epoch:  8800 | 10001 \t psi loss:  -0.118 \t Gp loss:  0.11 \t ki loss:  0.87\n"
     ]
    },
    {
     "name": "stderr",
     "output_type": "stream",
     "text": [
      " 89%|████████▉ | 8901/10001 [35:47<04:40,  3.92it/s]"
     ]
    },
    {
     "name": "stdout",
     "output_type": "stream",
     "text": [
      "Epoch:  8900 | 10001 \t psi loss:  -4.005 \t Gp loss:  0.31 \t ki loss:  5.52\n"
     ]
    },
    {
     "name": "stderr",
     "output_type": "stream",
     "text": [
      " 90%|█████████ | 9001/10001 [36:11<04:07,  4.04it/s]"
     ]
    },
    {
     "name": "stdout",
     "output_type": "stream",
     "text": [
      "Epoch:  9000 | 10001 \t psi loss:  0.512 \t Gp loss:  0.12 \t ki loss:  0.24\n"
     ]
    },
    {
     "name": "stderr",
     "output_type": "stream",
     "text": [
      " 91%|█████████ | 9101/10001 [36:36<03:48,  3.95it/s]"
     ]
    },
    {
     "name": "stdout",
     "output_type": "stream",
     "text": [
      "Epoch:  9100 | 10001 \t psi loss:  -4.262 \t Gp loss:  0.95 \t ki loss:  5.3\n"
     ]
    },
    {
     "name": "stderr",
     "output_type": "stream",
     "text": [
      " 92%|█████████▏| 9201/10001 [37:00<03:13,  4.14it/s]"
     ]
    },
    {
     "name": "stdout",
     "output_type": "stream",
     "text": [
      "Epoch:  9200 | 10001 \t psi loss:  0.711 \t Gp loss:  0.06 \t ki loss:  -0.49\n"
     ]
    },
    {
     "name": "stderr",
     "output_type": "stream",
     "text": [
      " 93%|█████████▎| 9301/10001 [37:25<02:47,  4.18it/s]"
     ]
    },
    {
     "name": "stdout",
     "output_type": "stream",
     "text": [
      "Epoch:  9300 | 10001 \t psi loss:  1.655 \t Gp loss:  0.12 \t ki loss:  -2.7\n"
     ]
    },
    {
     "name": "stderr",
     "output_type": "stream",
     "text": [
      " 94%|█████████▍| 9401/10001 [37:49<02:26,  4.09it/s]"
     ]
    },
    {
     "name": "stdout",
     "output_type": "stream",
     "text": [
      "Epoch:  9400 | 10001 \t psi loss:  0.34 \t Gp loss:  0.01 \t ki loss:  0.14\n"
     ]
    },
    {
     "name": "stderr",
     "output_type": "stream",
     "text": [
      " 95%|█████████▌| 9501/10001 [38:12<01:59,  4.19it/s]"
     ]
    },
    {
     "name": "stdout",
     "output_type": "stream",
     "text": [
      "Epoch:  9500 | 10001 \t psi loss:  -0.584 \t Gp loss:  0.06 \t ki loss:  0.76\n"
     ]
    },
    {
     "name": "stderr",
     "output_type": "stream",
     "text": [
      " 96%|█████████▌| 9601/10001 [38:36<01:38,  4.08it/s]"
     ]
    },
    {
     "name": "stdout",
     "output_type": "stream",
     "text": [
      "Epoch:  9600 | 10001 \t psi loss:  0.661 \t Gp loss:  0.1 \t ki loss:  -0.59\n"
     ]
    },
    {
     "name": "stderr",
     "output_type": "stream",
     "text": [
      " 97%|█████████▋| 9701/10001 [39:00<01:11,  4.17it/s]"
     ]
    },
    {
     "name": "stdout",
     "output_type": "stream",
     "text": [
      "Epoch:  9700 | 10001 \t psi loss:  -0.443 \t Gp loss:  0.08 \t ki loss:  1.0\n"
     ]
    },
    {
     "name": "stderr",
     "output_type": "stream",
     "text": [
      " 98%|█████████▊| 9801/10001 [39:25<00:49,  4.05it/s]"
     ]
    },
    {
     "name": "stdout",
     "output_type": "stream",
     "text": [
      "Epoch:  9800 | 10001 \t psi loss:  1.835 \t Gp loss:  0.07 \t ki loss:  -0.85\n"
     ]
    },
    {
     "name": "stderr",
     "output_type": "stream",
     "text": [
      " 99%|█████████▉| 9901/10001 [39:47<00:19,  5.11it/s]"
     ]
    },
    {
     "name": "stdout",
     "output_type": "stream",
     "text": [
      "Epoch:  9900 | 10001 \t psi loss:  0.825 \t Gp loss:  0.06 \t ki loss:  -0.58\n"
     ]
    },
    {
     "name": "stderr",
     "output_type": "stream",
     "text": [
      "100%|██████████| 10001/10001 [40:12<00:00,  4.03it/s]"
     ]
    },
    {
     "name": "stdout",
     "output_type": "stream",
     "text": [
      "Epoch:  10000 | 10001 \t psi loss:  -0.228 \t Gp loss:  0.13 \t ki loss:  0.63\n",
      "CPU times: user 41min 1s, sys: 7min 2s, total: 48min 4s\n",
      "Wall time: 40min 12s\n"
     ]
    },
    {
     "name": "stderr",
     "output_type": "stream",
     "text": [
      "\n"
     ]
    }
   ],
   "source": [
    "%%time\n",
    "psi_l = []\n",
    "ki_l = []\n",
    "Gp_l = []\n",
    "\n",
    "for t in tqdm(range(T)):\n",
    "    y_idxs = random.sample(range(0,P.shape[0]), M)\n",
    "    y_batch = torch.FloatTensor(P[y_idxs]).cuda()\n",
    "    \n",
    "    ## Multiple infimum updates to restrict exploding loss\n",
    "    x_idxs = random.sample(range(0,Q.shape[0]), M)\n",
    "    x_batch = torch.FloatTensor(Q[x_idxs]).cuda()\n",
    "\n",
    "    ##########################################################\n",
    "    ## Outer minimization loop\n",
    "    ##########################################################       \n",
    "    ## Fix Ki and update Psi to compute infimum. \n",
    "    for param in psi.parameters():\n",
    "        param.requires_grad = True\n",
    "    for param in ki.parameters():\n",
    "        param.requires_grad = False\n",
    "\n",
    "    gp_loss = GradientPenalty(psi, ki, x_batch, y_batch)\n",
    "    Psi_loss = WassersteinLoss(psi, ki, x_batch, y_batch) + lam_gp * gp_loss\n",
    "\n",
    "    Psi_opt.zero_grad()\n",
    "    Psi_loss.backward(retain_graph=True)\n",
    "    Psi_opt.step()\n",
    "\n",
    "\n",
    "    psi_l.append(Psi_loss.item())\n",
    "    Gp_l.append(gp_loss.item())\n",
    "\n",
    "    ##########################################################\n",
    "    ## Inner maximization loop: update once for every C updates\n",
    "    ##########################################################\n",
    "    ki_l_ = []\n",
    "    for _ in range(K_ki):\n",
    "        idxs = random.sample(range(0,P.shape[0]), M)\n",
    "        y_batch = torch.FloatTensor(P[idxs]).cuda()\n",
    "        x_batch = torch.FloatTensor(Q[idxs]).cuda()\n",
    "\n",
    "        # print('Data: ', x_batch.shape, y_batch.shape)\n",
    "\n",
    "        # sys.exit()\n",
    "        ## Fix Psi and update Ki to compute convex conjugate/ supremum \n",
    "        for param in psi.parameters():\n",
    "            param.requires_grad = False\n",
    "        for param in ki.parameters():\n",
    "            param.requires_grad = True\n",
    "\n",
    "        Ki_loss = - WassersteinLoss(psi, ki, x_batch, y_batch) \n",
    "\n",
    "        Ki_opt.zero_grad()\n",
    "        Ki_loss.backward(retain_graph=True)\n",
    "        Ki_opt.step()\n",
    "\n",
    "        ki_l_.append(Ki_loss.item())\n",
    "    ki_l.append(np.asarray(ki_l_).mean())\n",
    "        \n",
    "    if t%100==0:\n",
    "        print(\"Epoch: \", t,\"|\",T, \"\\t psi loss: \", np.round(psi_l[-1],3),\"\\t Gp loss: \",np.round(Gp_l[-1],2), \"\\t ki loss: \", np.round(ki_l[-1],2)) \n",
    "        \n",
    "        "
   ]
  },
  {
   "cell_type": "code",
   "execution_count": 30,
   "metadata": {},
   "outputs": [],
   "source": [
    "plt.rcParams.update({'font.size': 30})"
   ]
  },
  {
   "cell_type": "code",
   "execution_count": 32,
   "metadata": {},
   "outputs": [
    {
     "data": {
      "text/plain": [
       "(torch.Size([200, 2]), torch.Size([200, 2]), torch.Size([200, 2]))"
      ]
     },
     "execution_count": 32,
     "metadata": {},
     "output_type": "execute_result"
    }
   ],
   "source": [
    "## Compute Transport plan\n",
    "n = 200\n",
    "indxs = random.sample(range(0,P.shape[0]), n)\n",
    "\n",
    "y = torch.FloatTensor(P[indxs]).cuda()\n",
    "x = torch.FloatTensor(Q[indxs]).cuda()\n",
    "Tx = PushForward(ki,x)\n",
    "\n",
    "x.shape, y.shape, Tx.shape"
   ]
  },
  {
   "cell_type": "code",
   "execution_count": 33,
   "metadata": {},
   "outputs": [
    {
     "data": {
      "text/plain": [
       "((200, 2), (200, 2), (200, 2))"
      ]
     },
     "execution_count": 33,
     "metadata": {},
     "output_type": "execute_result"
    }
   ],
   "source": [
    "x = x.detach().cpu().numpy()\n",
    "y = y.detach().cpu().numpy()\n",
    "Tx = Tx.detach().cpu().numpy()\n",
    "mu_t = Tx.mean(axis=0)\n",
    "\n",
    "x.shape, y.shape, Tx.shape"
   ]
  },
  {
   "cell_type": "code",
   "execution_count": 34,
   "metadata": {},
   "outputs": [
    {
     "data": {
      "image/png": "[encoded data removed]",
      "text/plain": [
       "<Figure size 720x720 with 1 Axes>"
      ]
     },
     "metadata": {
      "needs_background": "light"
     },
     "output_type": "display_data"
    }
   ],
   "source": [
    "plt.figure(figsize=(10,10))\n",
    "plt.plot(x[:,0],x[:,1],'og',label='Input (x)', color='forestgreen')\n",
    "plt.plot(y[:,0],y[:,1],'s',label='Output (y)', color='peru')\n",
    "plt.plot(Tx[:,0],Tx[:,1],'d',label='Transport (Tx)', color='blue')\n",
    "\n",
    "for i in range(x.shape[0]):\n",
    "    plt.arrow(x[i,0], x[i,1], Tx[i,0] - x[i,0], Tx[i,1] - x[i,1],  alpha=0.2, head_width=0.03, head_length = 0.05, fc='y', ec = 'y', color='y')\n",
    "\n",
    "# plt.legend()\n",
    "plt.grid()\n",
    "\n",
    "plt.savefig('./output/Toy/WGAN_GP_Barry8Gauss_grid.pdf', bbox_inches='tight')\n"
   ]
  },
  {
   "cell_type": "code",
   "execution_count": 35,
   "metadata": {},
   "outputs": [
    {
     "data": {
      "image/png": "[encoded data removed]",
      "text/plain": [
       "<Figure size 720x720 with 1 Axes>"
      ]
     },
     "metadata": {
      "needs_background": "light"
     },
     "output_type": "display_data"
    }
   ],
   "source": [
    "plt.figure(figsize=(10,10))\n",
    "plt.plot(x[:,0],x[:,1],'og',label='Input (x)', color='forestgreen')\n",
    "plt.plot(y[:,0],y[:,1],'s',label='Output (y)', color='peru')\n",
    "plt.plot(Tx[:,0],Tx[:,1],'d',label='Transport (Tx)', color='blue')\n",
    "\n",
    "for i in range(x.shape[0]):\n",
    "    plt.arrow(x[i,0], x[i,1], Tx[i,0] - x[i,0], Tx[i,1] - x[i,1],  alpha=0.2, head_width=0.03, head_length = 0.05, fc='y', ec = 'y', color='y')\n",
    "\n",
    "plt.legend()\n",
    "plt.grid('off')\n",
    "\n",
    "plt.savefig('./output/Toy/WGAN_GP_Barry8Gauss.jpg', bbox_inches='tight')\n"
   ]
  },
  {
   "cell_type": "code",
   "execution_count": null,
   "metadata": {},
   "outputs": [],
   "source": []
  }
 ],
 "metadata": {
  "kernelspec": {
   "display_name": "Python 3",
   "language": "python",
   "name": "python3"
  },
  "language_info": {
   "codemirror_mode": {
    "name": "ipython",
    "version": 3
   },
   "file_extension": ".py",
   "mimetype": "text/x-python",
   "name": "python",
   "nbconvert_exporter": "python",
   "pygments_lexer": "ipython3",
   "version": "3.7.7"
  }
 },
 "nbformat": 4,
 "nbformat_minor": 2
}
